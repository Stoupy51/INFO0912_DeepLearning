{
 "cells": [
  {
   "cell_type": "code",
   "execution_count": 2,
   "metadata": {},
   "outputs": [],
   "source": [
    "## Imports\n",
    "from src.print import *\n",
    "import numpy as np"
   ]
  },
  {
   "cell_type": "markdown",
   "metadata": {},
   "source": [
    "---\n",
    "# Exercice 1"
   ]
  },
  {
   "cell_type": "code",
   "execution_count": 3,
   "metadata": {},
   "outputs": [
    {
     "name": "stdout",
     "output_type": "stream",
     "text": [
      "\u001b[92m[INFO  14:16:43] Vec: [ 1.6  0.5  7.4 22.3]\u001b[0m\n",
      "\u001b[94m[DEBUG 14:16:43] Type: float64, Shape: (4,), Dimension: 1, Length: 4\u001b[0m\n",
      "\u001b[92m[INFO  14:16:43] 3rd Element: 7.4\u001b[0m\n",
      "\u001b[92m[INFO  14:16:43] Memory Size: 32, calculated: 32\u001b[0m\n",
      "\u001b[92m[INFO  14:16:43] Memory Size: 16, calculated: 16\u001b[0m\n"
     ]
    }
   ],
   "source": [
    "\"\"\"\n",
    "Créer un tableau depuis la liste [1.6, 0.5, 7.4, 22.3] et stocker le dans la variable « vec ».\n",
    "o Afficher le contenu de la variable « vec »\n",
    "o Afficher le type de données du tableau « vec », sa forme, sa dimension et sa longueur.\n",
    "o Afficher le troisième élément du tableau.\n",
    "o Modifier la valeur « 0.5 » par « 3.8 ».\n",
    "o Calculer la taille de la mémoire du tableau.\n",
    "o Convertir le type du tableau vers « int »\n",
    "o Calculer la taille de la mémoire du tableau après la conversion du type.\n",
    "o Sauvegarder le tableau dans un fichier texte\n",
    "\"\"\"\n",
    "vec: np.ndarray = np.array([1.6, 0.5, 7.4, 22.3])\n",
    "info(f\"Vec: {vec}\")\n",
    "debug(f\"Type: {vec.dtype}, Shape: {vec.shape}, Dimension: {vec.ndim}, Length: {len(vec)}\")\n",
    "info(f\"3rd Element: {vec[2]}\")\n",
    "vec[1] = 3.8\n",
    "info(f\"Memory Size: {vec.nbytes}, calculated: {vec.size * vec.itemsize}\")\n",
    "vec = vec.astype(int)\n",
    "info(f\"Memory Size: {vec.nbytes}, calculated: {vec.size * vec.itemsize}\")\n",
    "np.savetxt(\"vec.txt\", vec)"
   ]
  },
  {
   "cell_type": "code",
   "execution_count": 4,
   "metadata": {},
   "outputs": [
    {
     "name": "stdout",
     "output_type": "stream",
     "text": [
      "\u001b[92m[INFO  14:16:44] Mat:\n",
      "[[ 0  3  6  9]\n",
      " [ 5 10 15 20]\n",
      " [30 40 50 60]]\u001b[0m\n",
      "\u001b[94m[DEBUG 14:16:44] Type: int32, Shape: (3, 4), Dimension: 2, Length: 3\u001b[0m\n",
      "\u001b[92m[INFO  14:16:44] Shape: (3, 4), Length: 12 == 12\u001b[0m\n",
      "\u001b[92m[INFO  14:16:44] Mat_1:\n",
      "[[ 5 10 15]\n",
      " [30 40 50]]\u001b[0m\n",
      "\u001b[92m[INFO  14:16:44] Mat:\n",
      "[[ 0.  3.  6.  9.]\n",
      " [10. 10. 15. 20.]\n",
      " [ 6.  4.  5.  6.]]\u001b[0m\n"
     ]
    }
   ],
   "source": [
    "\"\"\"\n",
    "Créer une matrice « mat » depuis la liste [[0, 3, 6, 9], [5, 10, 15, 20], [30, 40, 50, 60]]\n",
    "o Afficher le contenu de la variable « mat »\n",
    "o Afficher le type de données de la matrice « mat », sa forme, sa dimension et sa longueur.\n",
    "o Pouvez-vous obtenir la dimension et la longueur à partir de la forme ?\n",
    "o Créer la matrice « mat_1 » extraite de « mat » telles que i >= 1, j <=2.\n",
    "o Modifier la matrice « mat » afin que sa dernière ligne soit divisée par 10 et que sa première colonne soit multipliée par 2.\n",
    "\"\"\"\n",
    "mat: np.ndarray = np.array([\n",
    "\t[0, 3, 6, 9],\n",
    "\t[5, 10, 15, 20],\n",
    "\t[30, 40, 50, 60]\n",
    "])\n",
    "info(f\"Mat:\\n{mat}\")\n",
    "debug(f\"Type: {mat.dtype}, Shape: {mat.shape}, Dimension: {mat.ndim}, Length: {len(mat)}\")\n",
    "info(f\"Shape: {mat.shape}, Length: {mat.size} == {mat.shape[0] * mat.shape[1]}\")\n",
    "mat_1: np.ndarray = mat[1:, :3]\n",
    "info(f\"Mat_1:\\n{mat_1}\")\n",
    "\n",
    "mat = mat.astype(float)\t# Convert to float to avoid errors in division\n",
    "mat[-1] /= 10\n",
    "mat[:, 0] *= 2\n",
    "info(f\"Mat:\\n{mat}\")"
   ]
  },
  {
   "cell_type": "code",
   "execution_count": 5,
   "metadata": {},
   "outputs": [
    {
     "name": "stdout",
     "output_type": "stream",
     "text": [
      "\u001b[92m[INFO  14:16:44] Nd_Vec:\n",
      "[[[ 1  2  3]\n",
      "  [ 4  5  6]]\n",
      "\n",
      " [[ 7  8  9]\n",
      "  [10 11 12]]]\u001b[0m\n",
      "\u001b[94m[DEBUG 14:16:44] Type: int32, Shape: (2, 2, 3), Dimension: 3, Length: 2\u001b[0m\n",
      "\u001b[92m[INFO  14:16:44] Shape: (2, 2, 3), Dimension: 3, Length: 12 == 12\u001b[0m\n",
      "\u001b[92m[INFO  14:16:44] Element: 12\u001b[0m\n",
      "\u001b[92m[INFO  14:16:44] Sub-Array: [10 11 12]\u001b[0m\n"
     ]
    }
   ],
   "source": [
    "\"\"\"\n",
    "Créer un tableau multidimensionnel « nd_vec » d’une dimension > 2\n",
    "o Afficher le contenu de « nd_vec »\n",
    "o Afficher le type de données du tableau « nd_vec », sa forme, sa dimension et sa longueur.\n",
    "o Pouvez-vous obtenir la dimension et la longueur à partir de la forme ?\n",
    "o Afficher un élément de ce tableau ainsi qu’un sous tableau\n",
    "\"\"\"\n",
    "nd_vec: np.ndarray = np.array([i+1 for i in range(12)])\n",
    "nd_vec = nd_vec.reshape((2,2,3))\n",
    "info(f\"Nd_Vec:\\n{nd_vec}\")\n",
    "debug(f\"Type: {nd_vec.dtype}, Shape: {nd_vec.shape}, Dimension: {nd_vec.ndim}, Length: {len(nd_vec)}\")\n",
    "info(f\"Shape: {nd_vec.shape}, Dimension: {nd_vec.ndim}, Length: {nd_vec.size} == {nd_vec.shape[0] * nd_vec.shape[1] * nd_vec.shape[2]}\")\n",
    "info(f\"Element: {nd_vec[1, 1, 2]}\")\t# 3rd element of 2nd row of 2nd column\n",
    "info(f\"Sub-Array: {nd_vec[1, 1]}\")\t# 2nd row of 2nd column"
   ]
  },
  {
   "cell_type": "markdown",
   "metadata": {},
   "source": [
    "---\n",
    "# Exercice 2"
   ]
  },
  {
   "cell_type": "code",
   "execution_count": 6,
   "metadata": {},
   "outputs": [
    {
     "name": "stdout",
     "output_type": "stream",
     "text": [
      "\u001b[92m[INFO  14:16:45] Empty 1D: [0, 0, 463621200, 578, 463619840, 578, 463619920, 578, 7274610, 7471207]\u001b[0m\n",
      "\u001b[94m[DEBUG 14:16:45] Empty 2D:\n",
      "[[6.23042070e-307 4.67296746e-307 1.69121096e-306]\n",
      " [1.37962456e-306 1.16826648e-307 1.42413555e-306]\n",
      " [1.78019082e-306 4.79243676e-322 0.00000000e+000]]\u001b[0m\n",
      "\u001b[92m[INFO  14:16:45] Zero 3D:\n",
      "[[[0. 0. 0.]\n",
      "  [0. 0. 0.]\n",
      "  [0. 0. 0.]]\n",
      "\n",
      " [[0. 0. 0.]\n",
      "  [0. 0. 0.]\n",
      "  [0. 0. 0.]]\n",
      "\n",
      " [[0. 0. 0.]\n",
      "  [0. 0. 0.]\n",
      "  [0. 0. 0.]]]\u001b[0m\n",
      "\u001b[94m[DEBUG 14:16:45] Ones 2D:\n",
      "[[1. 1. 1. 1. 1.]\n",
      " [1. 1. 1. 1. 1.]\n",
      " [1. 1. 1. 1. 1.]\n",
      " [1. 1. 1. 1. 1.]\n",
      " [1. 1. 1. 1. 1.]]\u001b[0m\n",
      "\u001b[92m[INFO  14:16:45] Inf 2D:\n",
      "[[inf inf inf inf inf inf inf inf inf inf]\n",
      " [inf inf inf inf inf inf inf inf inf inf]\n",
      " [inf inf inf inf inf inf inf inf inf inf]\n",
      " [inf inf inf inf inf inf inf inf inf inf]\n",
      " [inf inf inf inf inf inf inf inf inf inf]\n",
      " [inf inf inf inf inf inf inf inf inf inf]\n",
      " [inf inf inf inf inf inf inf inf inf inf]\n",
      " [inf inf inf inf inf inf inf inf inf inf]\n",
      " [inf inf inf inf inf inf inf inf inf inf]\n",
      " [inf inf inf inf inf inf inf inf inf inf]]\u001b[0m\n",
      "\u001b[94m[DEBUG 14:16:45] Eye 2D:\n",
      "[[1. 0. 0. 0.]\n",
      " [0. 1. 0. 0.]\n",
      " [0. 0. 1. 0.]\n",
      " [0. 0. 0. 1.]]\u001b[0m\n",
      "\u001b[92m[INFO  14:16:45] Diag 2D:\n",
      "[[2 0 0 0]\n",
      " [0 3 0 0]\n",
      " [0 0 4 0]\n",
      " [0 0 0 5]]\u001b[0m\n"
     ]
    }
   ],
   "source": [
    "\"\"\"\n",
    "• Créer un tableau 1D vide de taille 10 et de type « int » ; observer les valeurs du tableau.\n",
    "• Créer un tableau 2D vide de dimension (3*3) et de type « float » ; observer les valeurs du tableau.\n",
    "• Créer un tableau de 3 dimensions (3*3*3) initialisé avec des zéros « 0 ».\n",
    "• Créer une matrice de taille (5*5) comportant des uns « 1 ».\n",
    "• Créer un tableau de taille (10*10) initialisé avec la valeur « np.inf ».\n",
    "• Créer une matrice d’identité de taille (4*4).\n",
    "• Créer une matrice dont la diagonale est égale à [2, 3, 4, 5] et des 0 ailleurs.\n",
    "\"\"\"\n",
    "empty_1d: np.ndarray = np.empty(10, dtype=int)\n",
    "info(f\"Empty 1D: {list(empty_1d)}\")\t# list() for better formatting\n",
    "\n",
    "empty_2d: np.ndarray = np.empty((3, 3), dtype=float)\n",
    "debug(f\"Empty 2D:\\n{empty_2d}\")\n",
    "\n",
    "zero_3d: np.ndmatrix = np.zeros((3, 3, 3))\n",
    "info(f\"Zero 3D:\\n{zero_3d}\")\n",
    "\n",
    "ones_2d: np.ndmatrix = np.ones((5, 5))\n",
    "debug(f\"Ones 2D:\\n{ones_2d}\")\n",
    "\n",
    "inf_2d: np.ndmatrix = np.full((10, 10), np.inf)\n",
    "info(f\"Inf 2D:\\n{inf_2d}\")\n",
    "\n",
    "eye_2d: np.ndarray = np.eye(4)\n",
    "debug(f\"Eye 2D:\\n{eye_2d}\")\n",
    "\n",
    "diag_2d: np.ndarray = np.diag([2, 3, 4, 5])\n",
    "info(f\"Diag 2D:\\n{diag_2d}\")\n"
   ]
  },
  {
   "cell_type": "markdown",
   "metadata": {},
   "source": [
    "---\n",
    "# Exercice 3"
   ]
  },
  {
   "cell_type": "code",
   "execution_count": 7,
   "metadata": {},
   "outputs": [
    {
     "name": "stdout",
     "output_type": "stream",
     "text": [
      "\u001b[92m[INFO  14:16:45] Int Series: [ 5  6  7  8  9 10 11 12 13 14 15 16 17 18 19 20 21 22 23 24 25]\u001b[0m\n",
      "\u001b[94m[DEBUG 14:16:45] Pair Series: [100 102 104 106 108 110 112 114 116 118 120 122 124 126 128 130 132 134\n",
      " 136 138 140 142 144 146 148 150]\u001b[0m\n",
      "\u001b[92m[INFO  14:16:45] Date Array: ['2019-02-01' '2019-02-02' '2019-02-03' '2019-02-04' '2019-02-05'\n",
      " '2019-02-06' '2019-02-07' '2019-02-08' '2019-02-09' '2019-02-10'\n",
      " '2019-02-11' '2019-02-12' '2019-02-13' '2019-02-14' '2019-02-15'\n",
      " '2019-02-16' '2019-02-17' '2019-02-18' '2019-02-19' '2019-02-20'\n",
      " '2019-02-21' '2019-02-22' '2019-02-23' '2019-02-24' '2019-02-25'\n",
      " '2019-02-26' '2019-02-27' '2019-02-28']\u001b[0m\n",
      "\u001b[94m[DEBUG 14:16:45] Equidist: [2.         2.33333333 2.66666667 3.         3.33333333 3.66666667\n",
      " 4.         4.33333333 4.66666667 5.        ]\u001b[0m\n"
     ]
    }
   ],
   "source": [
    "\"\"\"\n",
    "• Créer un tableau comportant la série d’entiers de 5 à 25 : [5, 6, 7, ... , 23,24,25]\n",
    "• Créer un tableau contenant tous les entiers pairs entre 100 et 150 inclus.\n",
    "• Créer un tableau qui comporte les dates du mois de Février 2019, ce tableau est de type « datetime64[D] »\n",
    "• Créer un tableau de dix éléments équidistants entre 2 et 5 inclus.\n",
    "\"\"\"\n",
    "int_series: np.ndarray = np.arange(5, 26)\n",
    "info(f\"Int Series: {int_series}\")\n",
    "pair_series: np.ndarray = np.arange(100, 151, 2)\n",
    "debug(f\"Pair Series: {pair_series}\")\n",
    "date_array: np.ndarray = np.arange('2019-02', '2019-03', dtype='datetime64[D]')\n",
    "info(f\"Date Array: {date_array}\")\n",
    "equidist: np.ndarray = np.linspace(2, 5, 10)\n",
    "debug(f\"Equidist: {equidist}\")"
   ]
  },
  {
   "cell_type": "code",
   "execution_count": 8,
   "metadata": {},
   "outputs": [
    {
     "name": "stdout",
     "output_type": "stream",
     "text": [
      "\u001b[92m[INFO  14:16:45] \n",
      "X: [-5.         -4.79591837 -4.59183673 -4.3877551  -4.18367347 -3.97959184\n",
      " -3.7755102  -3.57142857 -3.36734694 -3.16326531 -2.95918367 -2.75510204\n",
      " -2.55102041 -2.34693878 -2.14285714 -1.93877551 -1.73469388 -1.53061224\n",
      " -1.32653061 -1.12244898 -0.91836735 -0.71428571 -0.51020408 -0.30612245\n",
      " -0.10204082  0.10204082  0.30612245  0.51020408  0.71428571  0.91836735\n",
      "  1.12244898  1.32653061  1.53061224  1.73469388  1.93877551  2.14285714\n",
      "  2.34693878  2.55102041  2.75510204  2.95918367  3.16326531  3.36734694\n",
      "  3.57142857  3.7755102   3.97959184  4.18367347  4.3877551   4.59183673\n",
      "  4.79591837  5.        ]\n",
      "Y: [-0.9999092  -0.99986344 -0.99979462 -0.99969111 -0.99953545 -0.99930137\n",
      " -0.99894941 -0.99842027 -0.99762495 -0.99642993 -0.99463525 -0.99194203\n",
      " -0.98790496 -0.9818637  -0.97284617 -0.9594368  -0.93960819 -0.91052931\n",
      " -0.86839883 -0.80841907 -0.72512414 -0.61335726 -0.47010419 -0.29690545\n",
      " -0.10168812  0.10168812  0.29690545  0.47010419  0.61335726  0.72512414\n",
      "  0.80841907  0.86839883  0.91052931  0.93960819  0.9594368   0.97284617\n",
      "  0.9818637   0.98790496  0.99194203  0.99463525  0.99642993  0.99762495\n",
      "  0.99842027  0.99894941  0.99930137  0.99953545  0.99969111  0.99979462\n",
      "  0.99986344  0.9999092 ]\u001b[0m\n"
     ]
    }
   ],
   "source": [
    "\"\"\"\n",
    "• Soit la fonction y = f(x)= (ex – e-x)/(ex + e-x). Créer des tableaux x, y qui contiennent respectivement\n",
    " 50 valeurs réparties uniformément sur [-5, 5] et l’évaluation de la fonction sur ces valeurs\n",
    "\"\"\"\n",
    "fx = lambda x: (np.exp(x) - np.exp(-x)) / (np.exp(x) + np.exp(-x))\n",
    "x: np.ndarray = np.linspace(-5, 5, 50)\n",
    "y: np.ndarray = fx(x)\n",
    "info(f\"\\nX: {x}\\nY: {y}\")"
   ]
  },
  {
   "cell_type": "code",
   "execution_count": 9,
   "metadata": {},
   "outputs": [
    {
     "name": "stdout",
     "output_type": "stream",
     "text": [
      "\u001b[94m[DEBUG 14:16:45] Random Number: 0.5488135039273248\u001b[0m\n",
      "\u001b[92m[INFO  14:16:45] Random Array:\n",
      "[[34 37]\n",
      " [37 73]]\u001b[0m\n",
      "\u001b[94m[DEBUG 14:16:45] Random Normal Array:\n",
      "[[ 1.86755799 -0.97727788  0.95008842 -0.15135721 -0.10321885]\n",
      " [ 0.4105985   0.14404357  1.45427351  0.76103773  0.12167502]\n",
      " [ 0.44386323  0.33367433  1.49407907 -0.20515826  0.3130677 ]]\u001b[0m\n",
      "\u001b[92m[INFO  14:16:45] Mean: 0.4571297907048224, Variance: 0.5215681599180754\u001b[0m\n"
     ]
    }
   ],
   "source": [
    "\"\"\"\n",
    "• Écrire un programme NumPy qui permet de générer un nombre aléatoire entre 0 et 1.\n",
    "• Créer un tableau de la dimension et de la taille de votre choix contenant des valeurs entre 34 et 76.\n",
    "• Faites un tableau de forme (3, 5) avec des nombres aléatoires à partir d'une distribution normale standard\n",
    " (une distribution normale avec une moyenne 0 et une variance 1).\n",
    "\"\"\"\n",
    "np.random.seed(0)\n",
    "rand_num: np.ndarray = np.random.rand()\n",
    "debug(f\"Random Number: {rand_num}\")\n",
    "rand_matrix: np.ndarray = np.random.randint(34, 76, size=(2, 2))\n",
    "info(f\"Random Array:\\n{rand_matrix}\")\n",
    "rand_normal: np.ndarray = np.random.randn(3, 5)\n",
    "debug(f\"Random Normal Array:\\n{rand_normal}\")\n",
    "info(f\"Mean: {rand_normal.mean()}, Variance: {rand_normal.var()}\")"
   ]
  },
  {
   "cell_type": "code",
   "execution_count": 10,
   "metadata": {},
   "outputs": [
    {
     "name": "stdout",
     "output_type": "stream",
     "text": [
      "\u001b[92m[INFO  14:16:46] Random Matrix:\n",
      "[[44 47 64 67 67]\n",
      " [ 9 83 21 36 87]\n",
      " [70 88 88 12 58]\n",
      " [65 39 87 46 88]\n",
      " [81 37 25 77 72]\n",
      " [ 9 20 80 69 79]\n",
      " [47 64 82 99 88]\n",
      " [49 29 19 19 14]\n",
      " [39 32 65  9 57]\n",
      " [32 31 74 23 35]]\u001b[0m\n",
      "\u001b[92m[INFO  14:16:46] Standardized Matrix:\n",
      "[[-0.02206157  0.          0.13173823  0.72539252  0.10755798]\n",
      " [-1.56637126  1.61579632 -1.48676006 -0.33034307  0.96802178]\n",
      " [ 1.12513992  1.84021247  1.03508612 -1.14768676 -0.27965074]\n",
      " [ 0.90452425 -0.35906585  0.99744662  0.0102168   1.01104497]\n",
      " [ 1.6104944  -0.44883231 -1.33620208  1.0659524   0.32267393]\n",
      " [-1.56637126 -1.21184724  0.73397016  0.7935045   0.62383626]\n",
      " [ 0.11030784  0.76301493  0.80924915  1.81518411  1.01104497]\n",
      " [ 0.1985541  -0.80789816 -1.56203905 -0.90929485 -2.17267111]\n",
      " [-0.24267724 -0.67324847  0.16937773 -1.24985473 -0.32267393]\n",
      " [-0.55153918 -0.7181317   0.50813319 -0.77307091 -1.26918412]]\u001b[0m\n"
     ]
    }
   ],
   "source": [
    "\"\"\"\n",
    "• Créer une matrice (10x5) comportant des entiers aléatoires entre 0 et 100.\n",
    "\to Standardiser cette matrice telle que chaque colonne aura une moyenne nulle et un écart type égal à 1.\n",
    "\"\"\"\n",
    "np.random.seed(0)\n",
    "rand_matrix: np.ndarray = np.random.randint(0, 100, size=(10, 5))\n",
    "info(f\"Random Matrix:\\n{rand_matrix}\")\n",
    "rand_matrix = (rand_matrix - rand_matrix.mean(axis=0)) / rand_matrix.std(axis=0)\t# Axis=0 for column-wise operations\n",
    "info(f\"Standardized Matrix:\\n{rand_matrix}\")\n",
    "\n",
    "# Verification\n",
    "for i in range(rand_matrix.shape[1]):\n",
    "\tmean: float = rand_matrix[:, i].mean()\n",
    "\tstd: float = rand_matrix[:, i].std()\n",
    "\tmean = round(mean, 5)\t# Avoid floating point errors when comparing\n",
    "\tstd = round(std, 5)\t\t# Avoid floating point errors when comparing\n",
    "\tassert mean == 0, f\"Mean of column {i} is not zero: {mean}\"\n",
    "\tassert std == 1, f\"Standard Deviation of column {i} is not 1: {std}\""
   ]
  },
  {
   "cell_type": "markdown",
   "metadata": {},
   "source": [
    "---\n",
    "# Exercice 4"
   ]
  },
  {
   "cell_type": "code",
   "execution_count": 11,
   "metadata": {},
   "outputs": [
    {
     "name": "stdout",
     "output_type": "stream",
     "text": [
      "\u001b[92m[INFO  14:16:46] Random Matrix:\n",
      "[[0.5488135  0.71518937 0.60276338 0.54488318 0.4236548  0.64589411\n",
      "  0.43758721 0.891773   0.96366276 0.38344152]\n",
      " [0.79172504 0.52889492 0.56804456 0.92559664 0.07103606 0.0871293\n",
      "  0.0202184  0.83261985 0.77815675 0.87001215]\n",
      " [0.97861834 0.79915856 0.46147936 0.78052918 0.11827443 0.63992102\n",
      "  0.14335329 0.94466892 0.52184832 0.41466194]\n",
      " [0.26455561 0.77423369 0.45615033 0.56843395 0.0187898  0.6176355\n",
      "  0.61209572 0.616934   0.94374808 0.6818203 ]\n",
      " [0.3595079  0.43703195 0.6976312  0.06022547 0.66676672 0.67063787\n",
      "  0.21038256 0.1289263  0.31542835 0.36371077]\n",
      " [0.57019677 0.43860151 0.98837384 0.10204481 0.20887676 0.16130952\n",
      "  0.65310833 0.2532916  0.46631077 0.24442559]\n",
      " [0.15896958 0.11037514 0.65632959 0.13818295 0.19658236 0.36872517\n",
      "  0.82099323 0.09710128 0.83794491 0.09609841]\n",
      " [0.97645947 0.4686512  0.97676109 0.60484552 0.73926358 0.03918779\n",
      "  0.28280696 0.12019656 0.2961402  0.11872772]\n",
      " [0.31798318 0.41426299 0.0641475  0.69247212 0.56660145 0.26538949\n",
      "  0.52324805 0.09394051 0.5759465  0.9292962 ]\n",
      " [0.31856895 0.66741038 0.13179786 0.7163272  0.28940609 0.18319136\n",
      "  0.58651293 0.02010755 0.82894003 0.00469548]]\u001b[0m\n",
      "\u001b[94m[DEBUG 14:16:46] Element [0, 0]: 0.5488135039273248\u001b[0m\n",
      "\u001b[94m[DEBUG 14:16:46] Element [-1, -1]: -1.0\u001b[0m\n",
      "\u001b[92m[INFO  14:16:46] 2nd Row: [0.79172504 0.52889492 0.56804456 0.92559664 0.07103606 0.0871293\n",
      " 0.0202184  0.83261985 0.77815675 0.87001215]\u001b[0m\n",
      "\u001b[94m[DEBUG 14:16:46] 3rd Column: [0.60276338 0.56804456 0.46147936 0.45615033 0.6976312  0.98837384\n",
      " 0.65632959 0.97676109 0.0641475  0.13179786]\u001b[0m\n",
      "\u001b[92m[INFO  14:16:46] Modified 2nd Row:\n",
      "[[ 0.5488135   0.71518937  0.60276338  0.54488318  0.4236548   0.64589411\n",
      "   0.43758721  0.891773    0.96366276  0.38344152]\n",
      " [ 0.          0.          0.          0.          0.          0.\n",
      "   0.          0.          0.          0.        ]\n",
      " [ 0.97861834  0.79915856  0.46147936  0.78052918  0.11827443  0.63992102\n",
      "   0.14335329  0.94466892  0.52184832  0.41466194]\n",
      " [ 0.26455561  0.77423369  0.45615033  0.56843395  0.0187898   0.6176355\n",
      "   0.61209572  0.616934    0.94374808  0.6818203 ]\n",
      " [ 0.3595079   0.43703195  0.6976312   0.06022547  0.66676672  0.67063787\n",
      "   0.21038256  0.1289263   0.31542835  0.36371077]\n",
      " [ 0.57019677  0.43860151  0.98837384  0.10204481  0.20887676  0.16130952\n",
      "   0.65310833  0.2532916   0.46631077  0.24442559]\n",
      " [ 0.15896958  0.11037514  0.65632959  0.13818295  0.19658236  0.36872517\n",
      "   0.82099323  0.09710128  0.83794491  0.09609841]\n",
      " [ 0.97645947  0.4686512   0.97676109  0.60484552  0.73926358  0.03918779\n",
      "   0.28280696  0.12019656  0.2961402   0.11872772]\n",
      " [ 0.31798318  0.41426299  0.0641475   0.69247212  0.56660145  0.26538949\n",
      "   0.52324805  0.09394051  0.5759465   0.9292962 ]\n",
      " [ 0.31856895  0.66741038  0.13179786  0.7163272   0.28940609  0.18319136\n",
      "   0.58651293  0.02010755  0.82894003 -1.        ]]\u001b[0m\n"
     ]
    }
   ],
   "source": [
    "\"\"\"\n",
    "Créer une matrice aléatoire 10x10.\n",
    "\to Sélectionner l'élément dans la première ligne et la première colonne.\n",
    "\to Mettre l'élément de la dernière ligne et de la dernière colonne à -1.\n",
    "\to Sélectionner les éléments de la deuxième ligne.\n",
    "\to Sélectionner les éléments de la troisième colonne.\n",
    "\to Remplacer tous les éléments de la deuxième ligne par 0.\n",
    "\"\"\"\n",
    "np.random.seed(0)\n",
    "rand_matrix: np.ndarray = np.random.random(size=(10, 10))\n",
    "info(f\"Random Matrix:\\n{rand_matrix}\")\n",
    "debug(f\"Element [0, 0]: {rand_matrix[0, 0]}\")\n",
    "rand_matrix[-1, -1] = -1\n",
    "debug(f\"Element [-1, -1]: {rand_matrix[-1, -1]}\")\n",
    "info(f\"2nd Row: {rand_matrix[1]}\")\n",
    "debug(f\"3rd Column: {rand_matrix[:, 2]}\")\n",
    "rand_matrix[1] = 0\n",
    "info(f\"Modified 2nd Row:\\n{rand_matrix}\")"
   ]
  },
  {
   "cell_type": "code",
   "execution_count": 12,
   "metadata": {},
   "outputs": [
    {
     "name": "stdout",
     "output_type": "stream",
     "text": [
      "\u001b[92m[INFO  14:16:46] Random Array:\n",
      "[44 47 64 67 67  9 83 21 36 87]\u001b[0m\n",
      "\u001b[94m[DEBUG 14:16:46] Reversed Array:\n",
      "[87 36 21 83  9 67 67 64 47 44]\u001b[0m\n",
      "\u001b[92m[INFO  14:16:46] Border Matrix:\n",
      "[[1. 1. 1. 1.]\n",
      " [1. 0. 0. 1.]\n",
      " [1. 0. 0. 1.]\n",
      " [1. 1. 1. 1.]]\u001b[0m\n",
      "\u001b[94m[DEBUG 14:16:46] Checker Matrix:\n",
      "[[0. 1. 0. 1. 0. 1. 0. 1.]\n",
      " [1. 0. 1. 0. 1. 0. 1. 0.]\n",
      " [0. 1. 0. 1. 0. 1. 0. 1.]\n",
      " [1. 0. 1. 0. 1. 0. 1. 0.]\n",
      " [0. 1. 0. 1. 0. 1. 0. 1.]\n",
      " [1. 0. 1. 0. 1. 0. 1. 0.]\n",
      " [0. 1. 0. 1. 0. 1. 0. 1.]\n",
      " [1. 0. 1. 0. 1. 0. 1. 0.]]\u001b[0m\n"
     ]
    }
   ],
   "source": [
    "\"\"\"\n",
    "• Écrire un programme NumPy pour inverser un tableau (le premier élément devient le dernier).\n",
    "• Écrire un programme NumPy pour créer un tableau 2d avec 1 sur la bordure et 0 à l'intérieur.\n",
    "• Écrire un programme NumPy pour créer une matrice 8x8 et remplissez-la avec un motif en damier.\n",
    "\"\"\"\n",
    "np.random.seed(0)\n",
    "rand_matrix: np.ndarray = np.random.randint(0, 100, size=10)\t# Easier to read than random.random()\n",
    "info(f\"Random Array:\\n{rand_matrix}\")\n",
    "debug(f\"Reversed Array:\\n{rand_matrix[::-1]}\")\n",
    "\n",
    "rand_matrix: np.ndarray = np.ones((4, 4))\n",
    "rand_matrix[1:-1, 1:-1] = 0\t\t# 1:-1 to avoid the border\n",
    "info(f\"Border Matrix:\\n{rand_matrix}\")\n",
    "\n",
    "checker_matrix: np.ndarray = np.zeros((8, 8))\n",
    "checker_matrix[::2, 1::2] = 1\t# Even rows, odd columns\n",
    "checker_matrix[1::2, ::2] = 1\t# Odd rows, even columns\n",
    "debug(f\"Checker Matrix:\\n{checker_matrix}\")"
   ]
  },
  {
   "cell_type": "markdown",
   "metadata": {},
   "source": [
    "---\n",
    "# Exercice 5"
   ]
  },
  {
   "cell_type": "code",
   "execution_count": 13,
   "metadata": {},
   "outputs": [
    {
     "name": "stdout",
     "output_type": "stream",
     "text": [
      "\u001b[92m[INFO  14:16:46] Random Array: [   0    1    1    1    1    1    1   16   81  256  625 1296 1300]\u001b[0m\n",
      "\u001b[94m[DEBUG 14:16:46] Standard Deviation: 467.9515981646521\u001b[0m\n",
      "\u001b[92m[INFO  14:16:46] Mean: 275.38461538461536\u001b[0m\n",
      "\u001b[92m[INFO  14:16:46] Compared Value: 1192.5697477873337\u001b[0m\n",
      "\u001b[92m[INFO  14:16:46] Indices: (array([11, 12], dtype=int64),)\u001b[0m\n",
      "\u001b[92m[INFO  14:16:46] Values: [1296 1300]\u001b[0m\n",
      "\u001b[94m[DEBUG 14:16:46] Modified Array: [   0    1    1    1    1    1    1   16   81  256  625 1300 1300]\u001b[0m\n",
      "\u001b[92m[INFO  14:16:46] Compared Value: -641.8005170181028\u001b[0m\n",
      "\u001b[92m[INFO  14:16:46] Indices: (array([], dtype=int64),)\u001b[0m\n",
      "\u001b[92m[INFO  14:16:46] Values: []\u001b[0m\n",
      "\u001b[94m[DEBUG 14:16:46] Modified Array: [   0    1    1    1    1    1    1   16   81  256  625 1300 1300]\u001b[0m\n",
      "\u001b[92m[INFO  14:16:46] Max Count: 2, Min Count: 1\u001b[0m\n",
      "\u001b[94m[DEBUG 14:16:46] Others Count: 10, Alternative Count: 10\u001b[0m\n"
     ]
    }
   ],
   "source": [
    "\"\"\"\n",
    "Écrire un programme NumPy dans lequel vous allez :\n",
    "o Définir un tableau à une dimension de la taille de votre choix.\n",
    "o Calculer l’écart type des valeurs présentes dans ce tableau.\n",
    "o Chercher les valeurs et les indices des éléments qui sont supérieurs à « la moyenne des valeurs + 1.96 l’écart type ».\n",
    "o Remplacer toutes ces valeurs par la valeur maximale du tableau.\n",
    "o Chercher les valeurs et les indices des éléments qui sont inférieurs à « la moyenne des valeurs - 1.96 l’écart type ».\n",
    "o Remplacer toutes ces valeurs par la valeur minimale du tableau\n",
    "o Compter le nombre d’éléments égaux au maximum et le nombre d’éléments égaux au minimum.\n",
    "o Compter le nombre d’éléments différents de min ou de max.\n",
    "\"\"\"\n",
    "rand_matrix: np.ndarray = np.array([0,1,1,1,1,1,1,16,81,256,625,1296,1300])\n",
    "info(f\"Random Array: {rand_matrix}\")\n",
    "\n",
    "std: float = rand_matrix.std()\n",
    "debug(f\"Standard Deviation: {std}\")\n",
    "\n",
    "mean: float = rand_matrix.mean()\n",
    "info(f\"Mean: {mean}\")\n",
    "compared_value: float = mean + 1.96 * std\n",
    "info(f\"Compared Value: {compared_value}\")\n",
    "indices: np.ndarray = np.where(rand_matrix > compared_value)\n",
    "info(f\"Indices: {indices}\")\n",
    "info(f\"Values: {rand_matrix[indices]}\")\n",
    "\n",
    "rand_matrix[indices] = np.max(rand_matrix)\n",
    "debug(f\"Modified Array: {rand_matrix}\")\n",
    "\n",
    "compared_value = mean - 1.96 * std\n",
    "info(f\"Compared Value: {compared_value}\")\n",
    "indices = np.where(rand_matrix < compared_value)\n",
    "info(f\"Indices: {indices}\")\n",
    "info(f\"Values: {rand_matrix[indices]}\")\n",
    "\n",
    "rand_matrix[indices] = np.min(rand_matrix)\n",
    "debug(f\"Modified Array: {rand_matrix}\")\n",
    "\n",
    "max_count: int = np.count_nonzero(rand_matrix == np.max(rand_matrix))\n",
    "min_count: int = np.count_nonzero(rand_matrix == np.min(rand_matrix))\n",
    "info(f\"Max Count: {max_count}, Min Count: {min_count}\")\n",
    "\n",
    "others_count: int = np.count_nonzero((rand_matrix != np.min(rand_matrix)) & (rand_matrix != np.max(rand_matrix)))\n",
    "alternative_count: int = len(rand_matrix) - max_count - min_count\n",
    "debug(f\"Others Count: {others_count}, Alternative Count: {alternative_count}\")\n"
   ]
  },
  {
   "cell_type": "markdown",
   "metadata": {},
   "source": [
    "---\n",
    "# Exercice 6"
   ]
  },
  {
   "cell_type": "code",
   "execution_count": 14,
   "metadata": {},
   "outputs": [
    {
     "name": "stdout",
     "output_type": "stream",
     "text": [
      "\u001b[92m[INFO  14:16:47] Mat_1:\n",
      "[[ 2  3  4]\n",
      " [ 5  6  7]\n",
      " [ 8  9 10]]\u001b[0m\n",
      "\u001b[92m[INFO  14:16:47] Mat_2:\n",
      "[[ 1  6 11]\n",
      " [ 2  7 12]\n",
      " [ 3  8 13]\n",
      " [ 4  9 14]\n",
      " [ 5 10 15]]\u001b[0m\n"
     ]
    }
   ],
   "source": [
    "\"\"\"\n",
    "• Écrire un programme NumPy pour créer une matrice 3x3 avec des valeurs allant\n",
    "de 2 à 10\n",
    "• Créer la matricer suivante sans saisir explicitement ses valeurs :\n",
    "[ [ 1, 6, 11],\n",
    "[ 2, 7, 12],\n",
    "[ 3, 8, 13],\n",
    "[ 4, 9, 14],\n",
    "[ 5, 10, 15] ]\n",
    "\"\"\"\n",
    "mat_1: np.ndarray = np.arange(2, 11).reshape(3, 3)\t\t# Size argument is not available in arange\n",
    "info(f\"Mat_1:\\n{mat_1}\")\n",
    "\n",
    "mat_2: np.ndarray = np.arange(1, 16).reshape(3, 5).T\t# Transpose to get the desired shape\n",
    "info(f\"Mat_2:\\n{mat_2}\")"
   ]
  },
  {
   "cell_type": "code",
   "execution_count": 19,
   "metadata": {},
   "outputs": [
    {
     "name": "stdout",
     "output_type": "stream",
     "text": [
      "\u001b[92m[INFO  14:29:16] s:\n",
      "[[ 0  1  2  3  4]\n",
      " [ 5  6  7  8  9]\n",
      " [10 11 12 13 14]\n",
      " [15 16 17 18 19]\n",
      " [20 21 22 23 24]]\u001b[0m\n",
      "\u001b[92m[INFO  14:29:16] s_split:\n",
      "[array([[ 0],\n",
      "       [ 5],\n",
      "       [10],\n",
      "       [15],\n",
      "       [20]]), array([[ 1],\n",
      "       [ 6],\n",
      "       [11],\n",
      "       [16],\n",
      "       [21]]), array([[ 2],\n",
      "       [ 7],\n",
      "       [12],\n",
      "       [17],\n",
      "       [22]]), array([[ 3],\n",
      "       [ 8],\n",
      "       [13],\n",
      "       [18],\n",
      "       [23]]), array([[ 4],\n",
      "       [ 9],\n",
      "       [14],\n",
      "       [19],\n",
      "       [24]])]\u001b[0m\n",
      "\u001b[94m[DEBUG 14:29:16] Mat_3:\n",
      "[[ 7.  8.  9.]\n",
      " [ 1.  1.  1.]\n",
      " [12. 18.  2.]]\u001b[0m\n"
     ]
    }
   ],
   "source": [
    "\"\"\"\n",
    "Diviser le tableau « s = np.arange(25).reshape(5,5)» afin de séparer chaque colonne à part.\n",
    "Créer la matrice suivante en concaténant 3 tableaux unidimensionnel.\n",
    "  Utiliser np.arange et np.ones pour la création des tableaux.\n",
    "[ [ 7, 8, 9],\n",
    "[ 1, 1, 1],\n",
    "[ 12, 18, 2] ]\n",
    "\"\"\"\n",
    "s: np.ndarray = np.arange(25).reshape(5,5)\n",
    "info(f\"s:\\n{s}\")\n",
    "s_split: np.ndarray = np.hsplit(s, s.shape[1])\n",
    "info(f\"s_split:\\n{s_split}\")\n",
    "\n",
    "a: np.ndarray = np.arange(7, 10)\n",
    "b: np.ndarray = np.ones(3)\n",
    "c: np.ndarray = np.array([12, 18, 2])\n",
    "mat_3: np.ndarray = np.vstack([a, b, c])\n",
    "debug(f\"Mat_3:\\n{mat_3}\")"
   ]
  },
  {
   "cell_type": "markdown",
   "metadata": {},
   "source": [
    "---\n",
    "# Exercice 7"
   ]
  },
  {
   "cell_type": "code",
   "execution_count": 30,
   "metadata": {},
   "outputs": [
    {
     "name": "stdout",
     "output_type": "stream",
     "text": [
      "\u001b[92m[INFO  14:55:29] Random Array:\n",
      "[[-1  0  0]\n",
      " [-1  0  0]\n",
      " [ 0  0  0]]\u001b[0m\n",
      "\u001b[92m[INFO  14:55:29] Non-Zero Indices:\n",
      "(array([0, 1], dtype=int64), array([0, 0], dtype=int64))\u001b[0m\n",
      "\u001b[94m[DEBUG 14:55:29] Is Non-Zero:\n",
      "False\u001b[0m\n",
      "\u001b[92m[INFO  14:55:29] Padded Array:\n",
      "[[ 0  0  0  0  0]\n",
      " [ 0 -1  0  0  0]\n",
      " [ 0 -1  0  0  0]\n",
      " [ 0  0  0  0  0]\n",
      " [ 0  0  0  0  0]]\u001b[0m\n",
      "\u001b[94m[DEBUG 14:55:29] As Array:\n",
      "[1 2 3 4 5]\u001b[0m\n",
      "\u001b[92m[INFO  14:55:29] Appended Array:\n",
      "[ 0  0  0  0  0  0 -1  0  0  0  0 -1  0  0  0  0  0  0  0  0  0  0  0  0\n",
      "  0  1  2  3  4  5]\u001b[0m\n"
     ]
    }
   ],
   "source": [
    "\"\"\"\n",
    "• Écrire un programme qui trouve les positions des éléments non nuls dans un tableau.\n",
    "• Écrire un programme qui teste si aucun des éléments d'un tableau donné n'est nul.\n",
    "• Utiliser la fonction numpy « np.pad » pour ajouter une bordure (remplie de 0) autour d'un tableau existant.\n",
    "• Utiliser la fonction « np.asarray » pour créer un tableau à partir d’un tuple ou une liste.\n",
    "• Tester la fonction « np.append » pour ajouter des éléments à la fin d’un tableau.\n",
    "\"\"\"\n",
    "np.random.seed(0)\n",
    "rand_matrix: np.ndarray = np.random.randint(-1,1, size=(3,3))\n",
    "info(f\"Random Array:\\n{rand_matrix}\")\n",
    "non_zero_indices: np.ndarray = np.nonzero(rand_matrix)\n",
    "info(f\"Non-Zero Indices:\\n{non_zero_indices}\")\n",
    "\n",
    "is_non_zero: bool = np.all(rand_matrix != 0)\n",
    "debug(f\"Is Non-Zero:\\n{is_non_zero}\")\n",
    "\n",
    "rand_matrix = np.pad(rand_matrix, 1)\n",
    "info(f\"Padded Array:\\n{rand_matrix}\")\n",
    "\n",
    "as_array: np.ndarray = np.asarray([1, 2, 3, 4, 5])\n",
    "debug(f\"As Array:\\n{as_array}\")\n",
    "\n",
    "rand_array: np.ndarray = np.append(rand_matrix, as_array)\n",
    "info(f\"Appended Array:\\n{rand_array}\")"
   ]
  },
  {
   "cell_type": "code",
   "execution_count": 40,
   "metadata": {},
   "outputs": [
    {
     "name": "stdout",
     "output_type": "stream",
     "text": [
      "\u001b[92m[INFO  15:19:21] Series 1D:\n",
      "[0 1 2 3 4 5 6 7 8 9]\u001b[0m\n",
      "\u001b[92m[INFO  15:19:21] Reversed 1D:\n",
      "[ 5  6  7  8  9 10 11 12 13 14]\u001b[0m\n",
      "\u001b[92m[INFO  15:19:21] In 1D:\n",
      "[False False False False False  True  True  True  True  True]\u001b[0m\n",
      "\u001b[94m[DEBUG 15:19:21] Common Values:\n",
      "[5 6 7 8 9]\u001b[0m\n",
      "\u001b[92m[INFO  15:19:21] Tiled Array:\n",
      "[0 1 2 3 4 5 6 7 8 9 0 1 2 3 4 5 6 7 8 9]\u001b[0m\n",
      "\u001b[94m[DEBUG 15:19:21] Occurences:\n",
      "[2 2 2 2 2 2 2 2 2 2]\u001b[0m\n"
     ]
    }
   ],
   "source": [
    "\"\"\"\n",
    "• Utiliser la fonction «np.in1d » pour tester si chaque élément d'un tableau 1-D est également présent dans un second tableau.\n",
    "• Utiliser la fonction « np.intersect1d» pour trouver des valeurs communes entre deux tableaux.\n",
    "• Utiliser la fonction « np.tile » pour construire un tableau en répétant les éléments d’un autre tableau.\n",
    "• Utiliser la fonction « bincount » pour compter le nombre d’occurrences de chaque valeur d’un tableau de valeurs positives\n",
    "\"\"\"\n",
    "series_1d: np.ndarray = np.arange(10)\n",
    "reversed_1d: np.ndarray = np.arange(5, 15)\n",
    "info(f\"Series 1D:\\n{series_1d}\")\n",
    "info(f\"Reversed 1D:\\n{reversed_1d}\")\n",
    "info(f\"In 1D:\\n{np.in1d(series_1d, reversed_1d)}\")\n",
    "\n",
    "common_values: np.ndarray = np.intersect1d(series_1d, reversed_1d)\n",
    "debug(f\"Common Values:\\n{common_values}\")\n",
    "\n",
    "tiled_array: np.ndarray = np.tile(series_1d, 2)\t# Repeat twice\n",
    "info(f\"Tiled Array:\\n{tiled_array}\")\n",
    "\n",
    "occurences: np.ndarray = np.bincount(tiled_array)\n",
    "debug(f\"Occurences:\\n{occurences}\")"
   ]
  },
  {
   "cell_type": "markdown",
   "metadata": {},
   "source": [
    "---\n",
    "# Exercice 8"
   ]
  },
  {
   "cell_type": "code",
   "execution_count": null,
   "metadata": {},
   "outputs": [],
   "source": [
    "\"\"\"\n",
    "Utiliser la librairie numpy pour lire un fichier représentant une « dataset ».\n",
    "Utiliser la fonction numpy.genfromtxt() pour lire le fichier « titanic.csv » dans un tableau qu’on nommera \"donnees\".\n",
    "• Afficher le type de la variable donnees en utilisant la fonction type()\n",
    "• Afficher sa dimension, sa forme, etc\n",
    "• Apporter des modifications à votre base et sauvegarder la nouvelle base dans un fichier « titanic_mod.csv»\n",
    "\"\"\"\n",
    "donnees: np.ndarray = np.genfromtxt(\"titanic.csv\", delimiter=\",\", skip_header=1)\t# Skip header and read as csv\n",
    "info(f\"Type: {type(donnees)}\")\n",
    "debug(f\"Shape: {donnees.shape}, Dimension: {donnees.ndim}, Length: {len(donnees)}\")\n",
    "\n",
    "# Modifications\n",
    "donnees[:, 1] = donnees[:, 1] * 2\t# Double the 2nd column\n",
    "donnees[:, 2] = donnees[:, 2] / 2\t# Half the 3rd column\n",
    "\n",
    "# Save as csv\n",
    "np.savetxt(\"titanic_mod.csv\", donnees, delimiter=\",\")\t# Save as csv"
   ]
  },
  {
   "cell_type": "code",
   "execution_count": null,
   "metadata": {},
   "outputs": [],
   "source": []
  }
 ],
 "metadata": {
  "kernelspec": {
   "display_name": "Python 3",
   "language": "python",
   "name": "python3"
  },
  "language_info": {
   "codemirror_mode": {
    "name": "ipython",
    "version": 3
   },
   "file_extension": ".py",
   "mimetype": "text/x-python",
   "name": "python",
   "nbconvert_exporter": "python",
   "pygments_lexer": "ipython3",
   "version": "3.12.2"
  }
 },
 "nbformat": 4,
 "nbformat_minor": 2
}
