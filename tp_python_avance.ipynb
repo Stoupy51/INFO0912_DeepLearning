{
 "cells": [
  {
   "cell_type": "code",
   "execution_count": 1,
   "metadata": {},
   "outputs": [],
   "source": [
    "## Imports\n",
    "from src.print import *\n",
    "from functools import reduce\n",
    "import os"
   ]
  },
  {
   "cell_type": "markdown",
   "metadata": {},
   "source": [
    "---\n",
    "# Exercice 1"
   ]
  },
  {
   "cell_type": "code",
   "execution_count": 2,
   "metadata": {},
   "outputs": [
    {
     "name": "stdout",
     "output_type": "stream",
     "text": [
      "\u001b[92m[INFO  08:18:30] test/folder\u001b[0m\n",
      "\u001b[94m[DEBUG 08:18:30] enumerate\u001b[0m\n",
      "1 a, 2 b, 3 c, 4 d, 5 e, 6 f, 7 g, 8 h, 9 i, 10 j, 11 k, 12 l, 13 m, 14 n, 15 o, 16 p, 17 q, 18 r, 19 s, 20 t, 21 u, 22 v, 23 w, 24 x, 25 y, 26 z, \n",
      "\u001b[92m[INFO  08:18:30] lowerCamelCase: helloWorld\u001b[0m\n"
     ]
    }
   ],
   "source": [
    "\"\"\"\n",
    "• Créer une fonction anonyme qui reçoit des noms de dossiers et retourne le chemin complet (un path) .\n",
    "• Utiliser la fonction « enumerate » pour énumérer les lettres de l’alphabet de 1 à 26.\n",
    "• Utiliser la fonction « enumerate » pour écrire un script permettant transformer une phrase en CamelCase https://fr.wikipedia.org/wiki/Camel_case .\n",
    "\"\"\"\n",
    "anonyme = lambda *folders: \"/\".join(folders)\n",
    "info(anonyme(\"test\",\"folder\"))\n",
    "\n",
    "debug(\"enumerate\")\n",
    "for i, letter in enumerate(\"abcdefghijklmnopqrstuvwxyz\", 1):\n",
    "\tprint(i, letter, end=\", \")\n",
    "print()\n",
    "\n",
    "phrase: str = \"hello world\"\n",
    "camel_case: str = \"\"\n",
    "for i, word in enumerate(phrase.split()):\n",
    "\tif i == 0:\n",
    "\t\tcamel_case = word.lower()\n",
    "\telse:\n",
    "\t\tcamel_case += word.capitalize()\n",
    "info(f\"lowerCamelCase: {camel_case}\")"
   ]
  },
  {
   "cell_type": "code",
   "execution_count": 3,
   "metadata": {},
   "outputs": [
    {
     "name": "stdout",
     "output_type": "stream",
     "text": [
      "\u001b[92m[INFO  08:18:31] any: False\u001b[0m\n",
      "\u001b[92m[INFO  08:18:31] all: True\u001b[0m\n",
      "\u001b[94m[DEBUG 08:18:31] sorted by length: ['file156.pdf', 'fil566152.pdf']\u001b[0m\n",
      "\u001b[92m[INFO  08:18:31] sorted by modulo 7: [6, 5, 4, 3, 2, 9, 1, 8, 0, 7]\u001b[0m\n",
      "\u001b[94m[DEBUG 08:18:31] zip alphabet: [('a', 1), ('b', 2), ('c', 3), ('d', 4), ('e', 5), ('f', 6), ('g', 7), ('h', 8), ('i', 9), ('j', 10), ('k', 11), ('l', 12), ('m', 13), ('n', 14), ('o', 15), ('p', 16), ('q', 17), ('r', 18), ('s', 19), ('t', 20), ('u', 21), ('v', 22), ('w', 23), ('x', 24), ('y', 25), ('z', 26)]\u001b[0m\n",
      "\u001b[92m[INFO  08:18:31] zip to dict: {'CNN': 'Convolutional neural network', 'GAN': 'Generative adversarial network', 'RNN': 'Recurrent neural network', 'GRU': 'Gated recurrent unit', 'LSTM': 'Long short-term memory'}\u001b[0m\n"
     ]
    }
   ],
   "source": [
    "\"\"\"\n",
    "• Soit une liste comportant des noms de fichiers. Utiliser les fonctions « any » et « all » pour vérifier si la liste comporte au moins un fichier « jpeg » et si tous les fichiers sont des fichiers « pdf » .\n",
    "• Utiliser la fonction « sorted », pour trier une liste en fonction de la longueur des chaînes de caractères qu’elle comporte.\n",
    "• Utiliser la fonction « sorted », pour trier une liste de nombres en fonction du reste de la division de chaque élément par 7 (du plus grand au plus petit).\n",
    "• Utiliser la fonction « zip » pour afficher la position dans l’alphabet de chaque lettre d’une variable contenant une chaine alphabétique.\n",
    "• Utiliser la fonction « zip » pour créer un dictionnaire à partir de ces deux listes :\n",
    "\tlst1=[\"CNN\", \"GAN\" ,\"RNN\", \"GRU\", \"LSTM\"]\n",
    "\tlst2=[\"Convolutional neural network\", \"Generative adversarial network\", \"Recurrent neural network\", \"Gated recurrent unit\", \"Long short-term memory\"\n",
    "\"\"\"\n",
    "files: list[str] = [\"file156.pdf\", \"fil566152.pdf\"]\n",
    "info(f\"any: {any(\".jpeg\" in file for file in files)}\")\n",
    "info(f\"all: {all(\".pdf\" in file for file in files)}\")\n",
    "\n",
    "debug(f\"sorted by length: {sorted(files, key=len)}\")\n",
    "\n",
    "numbers: list[int] = list(range(10))\n",
    "info(f\"sorted by modulo 7: {sorted(numbers, key=lambda x: x % 7, reverse=True)}\")\n",
    "\n",
    "alphabet: str = \"abcdefghijklmnopqrstuvwxyz\"\n",
    "debug(f\"zip alphabet: {list(zip(alphabet, range(1, 27)))}\")\n",
    "\n",
    "lst1: list[str] = [\"CNN\", \"GAN\" ,\"RNN\", \"GRU\", \"LSTM\"]\n",
    "lst2: list[str] = [\"Convolutional neural network\", \"Generative adversarial network\", \"Recurrent neural network\", \"Gated recurrent unit\", \"Long short-term memory\"]\n",
    "info(f\"zip to dict: {dict(zip(lst1, lst2))}\")"
   ]
  },
  {
   "cell_type": "markdown",
   "metadata": {},
   "source": [
    "---\n",
    "# Exercice 2"
   ]
  },
  {
   "cell_type": "code",
   "execution_count": 4,
   "metadata": {},
   "outputs": [
    {
     "name": "stdout",
     "output_type": "stream",
     "text": [
      "\u001b[92m[INFO  08:18:32] map: [5.905, 81.903, 16.974, 14.213, 26.626, 3.276, 18.404]\u001b[0m\n",
      "\u001b[94m[DEBUG 08:18:32] strings: ['it', 'is', 'a', 'sentence']\u001b[0m\n",
      "\u001b[94m[DEBUG 08:18:32] map: [2, 2, 1, 8]\u001b[0m\n",
      "\u001b[92m[INFO  08:18:32] cities: ['Chalons_en_Champagne', 'Epernay', 'Rethel', 'Bezannes', 'Reims', 'Vitry_le_François', 'Cernay_les_Reims', 'Witry_les_Reims']\u001b[0m\n",
      "\u001b[92m[INFO  08:18:32] map: [2, 2, 2, 2, 1, 1, 3, 2]\u001b[0m\n"
     ]
    }
   ],
   "source": [
    "\"\"\"\n",
    "• Soit la liste [2.43, 9.05, 4.12, 3.77, 5.16, 1.81, 4.29]. Utiliser la fonction « map » pour\n",
    " imprimer le carré de chaque nombre arrondi à trois décimales.\n",
    "• Soit une liste contenant des chaînes de caractères. En utilisant la fonction « map », créer\n",
    " une deuxième liste comportant les longueurs des éléments de la première.\n",
    "• Soit la liste suivante : Villes = ['Chalons_en_Champagne', 'Epernay', 'Rethel',\n",
    " 'Bezannes', 'Reims','Vitry_le_François', 'Cernay_les_Reims', 'Witry_les_Reims']\n",
    " Utiliser la fonction « map » pour créer une liste contenant le nombre d’occurrences\n",
    " de la voyelle « e » ( e ou E) par nom de ville\n",
    "\"\"\"\n",
    "numbers: list[float] = [2.43, 9.05, 4.12, 3.77, 5.16, 1.81, 4.29]\n",
    "rounded_square = lambda x: round(x ** 2, 3)\n",
    "info(f\"map: {list(map(rounded_square, numbers))}\")\n",
    "\n",
    "strings: list[str] = [\"it\",\"is\",\"a\",\"sentence\"]\n",
    "debug(f\"strings: {strings}\")\n",
    "debug(f\"map: {list(map(len, strings))}\")\n",
    "\n",
    "cities: list[str] = ['Chalons_en_Champagne', 'Epernay', 'Rethel', 'Bezannes', 'Reims','Vitry_le_François', 'Cernay_les_Reims', 'Witry_les_Reims']\n",
    "count_e = lambda city: city.lower().count(\"e\")\n",
    "info(f\"cities: {cities}\")\n",
    "info(f\"map: {list(map(count_e, cities))}\")"
   ]
  },
  {
   "cell_type": "code",
   "execution_count": 5,
   "metadata": {},
   "outputs": [
    {
     "name": "stdout",
     "output_type": "stream",
     "text": [
      "\u001b[92m[INFO  08:18:33] lst1: [25, 1.35, 59, 402, 576, 43, 12.89, 1234]\u001b[0m\n",
      "\u001b[92m[INFO  08:18:33] lst2: [1, 21, 100, 111, 10020, 67.56, 34, 145]\u001b[0m\n",
      "\u001b[92m[INFO  08:18:33] map: [25, 21, 100, 402, 10020, 67.56, 34, 1234]\u001b[0m\n",
      "\u001b[94m[DEBUG 08:18:33] l1: [1, 2, 3, 4, 5]\u001b[0m\n",
      "\u001b[94m[DEBUG 08:18:33] l2: [5, 4, 3, 2, 1]\u001b[0m\n",
      "\u001b[94m[DEBUG 08:18:33] map: [5, 4, 3, 4, 5]\u001b[0m\n",
      "\u001b[92m[INFO  08:18:33] map: ['M. Pierre Bourcier', 'Mme Martine Joly', 'M. Adam Bernard', 'M. Gabriel Durand', 'Mlle Alice Martin', 'Mlle Rose Dubois', 'Mme Emma Thomas']\u001b[0m\n"
     ]
    }
   ],
   "source": [
    "\"\"\"\n",
    "• Soient les deux listes suivantes :\n",
    "lst1=[25, 1.35, 59, 402, 576, 43, 12.89, 1234]\n",
    "lst2=[1,21,100,111,10020,67.56,34,145]\n",
    "Utiliser la fonction « map » pour créer une liste lst_max qui comporte la valeur max des deux listes à chaque position.\n",
    "lst_max = [25, 21, 100, 402, 10020, 67.56, 34, 1234]\n",
    "\n",
    "• Utiliser la fonction « map » pour créer une liste comportant la valeur max à une position donnée de deux listes l1, et l2.\n",
    "\n",
    "• Soient les trois listes suivantes :\n",
    "Civilite = [\"M.\", \"Mme\", \"M.\", \"M.\", \"Mlle\", \"Mlle\", \"Mme\"]\n",
    "Noms_Famille = [\"Bourcier\", \"Joly\", \"Bernard\", \"Durand\", \"Martin\", \"Dubois\", \"Thomas\"]\n",
    "Prenoms = [\"Pierre\", \"Martine\", \"Adam\", \"Gabriel\", \"Alice\", \"Rose\", \"Emma\"]\n",
    "Utiliser la fonction « map » pour créer la liste Noms.\n",
    "Noms = ['M. Pierre Bourcier', 'Mme Martine Joly', 'M. Adam Bernard', 'M. Gabriel Durand', 'Mlle Alice Martin', 'Mlle Rose Dubois', 'Mme Emma Thomas']\n",
    "\"\"\"\n",
    "lst1: list[float] = [25, 1.35, 59, 402, 576, 43, 12.89, 1234]\n",
    "lst2: list[float] = [1,21,100,111,10020,67.56,34,145]\n",
    "info(f\"lst1: {lst1}\")\n",
    "info(f\"lst2: {lst2}\")\n",
    "info(f\"map: {list(map(max, lst1, lst2))}\")\n",
    "\n",
    "l1: list[int] = [1, 2, 3, 4, 5]\n",
    "l2: list[int] = [5, 4, 3, 2, 1]\n",
    "debug(f\"l1: {l1}\")\n",
    "debug(f\"l2: {l2}\")\n",
    "debug(f\"map: {list(map(max, l1, l2))}\")\n",
    "\n",
    "Civilite: list[str] = [\"M.\", \"Mme\", \"M.\", \"M.\", \"Mlle\", \"Mlle\", \"Mme\"]\n",
    "Noms_Famille: list[str] = [\"Bourcier\", \"Joly\", \"Bernard\", \"Durand\", \"Martin\", \"Dubois\", \"Thomas\"]\n",
    "Prenoms: list[str] = [\"Pierre\", \"Martine\", \"Adam\", \"Gabriel\", \"Alice\", \"Rose\", \"Emma\"]\n",
    "f_nom = lambda civilite, nom, prenom: f\"{civilite} {prenom} {nom}\"\n",
    "info(f\"map: {list(map(f_nom, Civilite, Noms_Famille, Prenoms))}\")"
   ]
  },
  {
   "cell_type": "markdown",
   "metadata": {},
   "source": [
    "---\n",
    "# Exercice 3"
   ]
  },
  {
   "cell_type": "code",
   "execution_count": 6,
   "metadata": {},
   "outputs": [
    {
     "name": "stdout",
     "output_type": "stream",
     "text": [
      "\u001b[92m[INFO  08:18:34] numbers: [-5, -4, -3, -2, -1, 0, 1, 2, 3, 4]\u001b[0m\n",
      "\u001b[92m[INFO  08:18:34] filter: [-5, -4, -3, -2, -1]\u001b[0m\n",
      "\u001b[94m[DEBUG 08:18:34] string: ef6e52516e561ef651f\u001b[0m\n",
      "\u001b[94m[DEBUG 08:18:34] filter: ['6', '5', '2', '5', '1', '6', '5', '6', '1', '6', '5', '1']\u001b[0m\n",
      "\u001b[92m[INFO  08:18:34] pays: ['Allemagne', 'Angola', 'Bolivie', 'Canada', 'Chine', 'Cuba', 'France', 'Inde', 'Mexique', 'Turquie', 'Ukraine']\u001b[0m\n",
      "\u001b[92m[INFO  08:18:34] filter: ['Angola', 'Canada', 'Chine', 'Cuba', 'France', 'Inde']\u001b[0m\n",
      "\u001b[94m[DEBUG 08:18:34] string: voyelles de chaine de caractères\u001b[0m\n",
      "\u001b[94m[DEBUG 08:18:34] filter: ['o', 'y', 'e', 'e', 'e', 'a', 'i', 'e', 'e', 'a', 'a', 'e']\u001b[0m\n",
      "\u001b[92m[INFO  08:18:34] l1: [0, 1, 2, 3, 4, 5, 6, 7, 8, 9]\u001b[0m\n",
      "\u001b[92m[INFO  08:18:34] l2: [5, 6, 7, 8, 9, 10, 11, 12, 13, 14]\u001b[0m\n",
      "\u001b[92m[INFO  08:18:34] filter: [5, 6, 7, 8, 9]\u001b[0m\n"
     ]
    }
   ],
   "source": [
    "\"\"\"\n",
    "• Utiliser la fonction « filter » pour récupérer les nombres négatifs dans une liste.\n",
    "• Utiliser la fonction « filter » pour récupérer tous les chiffres présents dans une chaîne de caractères.\n",
    "• Utiliser la fonction « filtre » pour garder uniquement les noms de pays qui ont au plus six lettres.\n",
    "pays = [\"Allemagne\", \"Angola\", \"Bolivie\", \"Canada\", \"Chine\", \"Cuba\", \"France\", \"Inde\", \"Mexique\",\"Turquie\", \"Ukraine\"]\n",
    "• Utiliser la fonction « filter » pour récupérer toutes les voyelles d'une chaîne de caractères.\n",
    "• Utiliser la fonction « filter » pour trouver les valeurs communes à deux listes de nombres.\n",
    "\"\"\"\n",
    "numbers: list[int] = list(range(-5, 5))\n",
    "is_negative = lambda x: x < 0\n",
    "info(f\"numbers: {numbers}\")\n",
    "info(f\"filter: {list(filter(is_negative, numbers))}\")\n",
    "\n",
    "string: str = \"ef6e52516e561ef651f\"\n",
    "is_digit = lambda x: x.isdigit()\n",
    "debug(f\"string: {string}\")\n",
    "debug(f\"filter: {list(filter(is_digit, string))}\")\n",
    "\n",
    "pays: list[str] = [\"Allemagne\", \"Angola\", \"Bolivie\", \"Canada\", \"Chine\", \"Cuba\", \"France\", \"Inde\", \"Mexique\",\"Turquie\", \"Ukraine\"]\n",
    "is_short = lambda x: len(x) <= 6\n",
    "info(f\"pays: {pays}\")\n",
    "info(f\"filter: {list(filter(is_short, pays))}\")\n",
    "\n",
    "string: str = \"voyelles de chaine de caractères\"\n",
    "is_vowel = lambda x: x.lower() in \"aeiouy\"\n",
    "debug(f\"string: {string}\")\n",
    "debug(f\"filter: {list(filter(is_vowel, string))}\")\n",
    "\n",
    "l1: list[int] = list(range(10))\n",
    "l2: list[int] = list(range(5, 15))\n",
    "is_common = lambda x: x in l1 and x in l2\n",
    "info(f\"l1: {l1}\")\n",
    "info(f\"l2: {l2}\")\n",
    "info(f\"filter: {list(filter(is_common, l1))}\")"
   ]
  },
  {
   "cell_type": "markdown",
   "metadata": {},
   "source": [
    "---\n",
    "# Exercice 4"
   ]
  },
  {
   "cell_type": "code",
   "execution_count": 7,
   "metadata": {},
   "outputs": [
    {
     "name": "stdout",
     "output_type": "stream",
     "text": [
      "\u001b[92m[INFO  08:18:35] numbers: [1, 65, 2358, 516, 6]\u001b[0m\n",
      "\u001b[92m[INFO  08:18:35] max between: 2358\u001b[0m\n",
      "\u001b[94m[DEBUG 08:18:39] 5 factorial equals: 120\u001b[0m\n",
      "\u001b[92m[INFO  08:18:39] string to join: ['this', 'is', 'a', 'sentence']\u001b[0m\n",
      "\u001b[92m[INFO  08:18:39] join: this is a sentence\u001b[0m\n",
      "\u001b[94m[DEBUG 08:18:39] v1: [1, 2, 3]\u001b[0m\n",
      "\u001b[94m[DEBUG 08:18:39] v2: [4, 5, 6]\u001b[0m\n",
      "\u001b[94m[DEBUG 08:18:39] dot product: 32\u001b[0m\n"
     ]
    }
   ],
   "source": [
    "\"\"\"\n",
    "• Utiliser la fonction « reduce » pour retourner la plus grande valeur dans une liste.\n",
    "• Utiliser la fonction « reduce » pour calculer la factorielle d’un entier N saisi par l’utilisateur.\n",
    "• Utiliser la fonction « reduce » pour reproduire le comportement de la fonction « join »\n",
    "• Soient deux vecteurs mathématiques représentés par deux listes de nombres.\n",
    " Utiliser la fonction « reduce » pour calculer leur produit scalaire.\n",
    "\"\"\"\n",
    "numbers: list[int] = [1,65,2358,516,6]\n",
    "max_between = lambda x, y: x if x > y else y\n",
    "info(f\"numbers: {numbers}\")\n",
    "info(f\"max between: {reduce(max_between, numbers)}\")\n",
    "\n",
    "factorial = lambda x, y: x * y\n",
    "n = int(input(\"factorial of: \"))\n",
    "debug(f\"{n} factorial equals: {reduce(factorial, range(1, n + 1))}\")\n",
    "\n",
    "string_to_join: list[str] = [\"this\", \"is\", \"a\", \"sentence\"]\n",
    "join = lambda x, y: x + \" \" + y\n",
    "info(f\"string to join: {string_to_join}\")\n",
    "info(f\"join: {reduce(join, string_to_join)}\")\n",
    "\n",
    "v1: list[int] = [1, 2, 3]\n",
    "v2: list[int] = [4, 5, 6]\n",
    "# Dot product is the sum of (ai*bi) for each i\n",
    "dot_product_1 = lambda x, y: x * y\n",
    "dot_product_2 = lambda x, y: x + y\n",
    "mult = map(dot_product_1, v1, v2)\n",
    "debug(f\"v1: {v1}\")\n",
    "debug(f\"v2: {v2}\")\n",
    "debug(f\"dot product: {reduce(dot_product_2, mult)}\")"
   ]
  },
  {
   "cell_type": "markdown",
   "metadata": {},
   "source": [
    "---\n",
    "# Exercice 5"
   ]
  },
  {
   "cell_type": "code",
   "execution_count": 17,
   "metadata": {},
   "outputs": [
    {
     "name": "stdout",
     "output_type": "stream",
     "text": [
      "\u001b[92m[INFO  08:57:43] map: 1\u001b[0m\n",
      "\u001b[92m[INFO  08:57:43] map: 2\u001b[0m\n",
      "\u001b[92m[INFO  08:57:43] map: 3\u001b[0m\n"
     ]
    }
   ],
   "source": [
    "\"\"\"\n",
    "• Plusieurs fonctions parmi celles utilisées dans les exercices précédents retournent des itérateurs.\n",
    " Remplacer le cast « list » ou « dict » par l’utilisation de la méthode « next » pour récupérer les résultats obtenus.\n",
    "\"\"\"\n",
    "m = map(str, [1,2,3])\n",
    "info(f\"map: {next(m)}\")\n",
    "info(f\"map: {next(m)}\")\n",
    "info(f\"map: {next(m)}\")"
   ]
  },
  {
   "cell_type": "code",
   "execution_count": 16,
   "metadata": {},
   "outputs": [
    {
     "name": "stdout",
     "output_type": "stream",
     "text": [
      "\u001b[92m[INFO  08:55:05] sum: 85\u001b[0m\n",
      "\u001b[92m[INFO  08:55:05] sum: 37\u001b[0m\n",
      "\u001b[92m[INFO  08:55:05] sum: 302\u001b[0m\n"
     ]
    }
   ],
   "source": [
    "\"\"\"\n",
    "• Soit la liste suivante : lt = [(2,45,4,34), (25,12), (13,89,43,56,23,9,46,23), (98,15,23), (65,22,31,123,11)]\n",
    "\to Utiliser la fonction map pour trouver la somme des nombres dans chaque tuple.\n",
    "\to Utiliser l'itération manuelle pour imprimer les trois premiers résultats fournis par l'objet map résultant.\n",
    "\"\"\"\n",
    "lt: list[tuple] = [(2,45,4,34), (25,12), (13,89,43,56,23,9,46,23), (98,15,23), (65,22,31,123,11)]\n",
    "sums: map = map(sum, lt)\n",
    "for i in range(3):\n",
    "\tinfo(f\"sum: {next(sums)}\")"
   ]
  },
  {
   "cell_type": "code",
   "execution_count": 32,
   "metadata": {},
   "outputs": [
    {
     "name": "stdout",
     "output_type": "stream",
     "text": [
      "\u001b[92m[INFO  09:29:01] map: 0\u001b[0m\n",
      "\u001b[92m[INFO  09:29:01] map: 1\u001b[0m\n",
      "\u001b[92m[INFO  09:29:01] map: 2\u001b[0m\n",
      "\u001b[94m[DEBUG 09:29:01] [3, 2, 1]\u001b[0m\n",
      "\u001b[92m[INFO  09:29:01] e odllwrolh\u001b[0m\n"
     ]
    }
   ],
   "source": [
    "\"\"\"\n",
    "• Reprendre la première question de l'exercice 5 en utilisant une expression génératrice.\n",
    "• Écrire une classe d'itérateur « iter_inverse », qui prend une liste et l'itère dans le sens inverse.\n",
    "• Écrire une classe d'itérateur « iter_melange », qui prend une chaine de caractères\n",
    " et retourne les éléments de cette chaine mélangée.\n",
    "\"\"\"\n",
    "m = (x for x in map(str, range(3)))\n",
    "for i in range(3):\n",
    "\tinfo(f\"map: {next(m)}\")\n",
    "\n",
    "class iter_inverse:\n",
    "\tdef __init__(self, lst: list):\n",
    "\t\tself.lst = lst\n",
    "\t\tself.index = len(lst) - 1\n",
    "\n",
    "\tdef __iter__(self):\n",
    "\t\treturn self\n",
    "\n",
    "\tdef __next__(self):\n",
    "\t\tif self.index < 0:\n",
    "\t\t\traise StopIteration\n",
    "\t\tself.index -= 1\n",
    "\t\treturn self.lst[self.index + 1]\n",
    "l: list = [1,2,3]\n",
    "debug(list(iter_inverse(l)))\n",
    "\n",
    "import random\n",
    "class iter_melange:\n",
    "\tdef __init__(self, string: str):\n",
    "\t\tself.length = len(string)\n",
    "\t\tself.string = \"\".join(random.sample(string, k=self.length))\n",
    "\t\tself.index = 0\n",
    "\n",
    "\tdef __iter__(self):\n",
    "\t\treturn self\n",
    "\n",
    "\tdef __next__(self):\n",
    "\t\tif self.index >= self.length:\n",
    "\t\t\traise StopIteration\n",
    "\t\tself.index += 1\n",
    "\t\treturn self.string[self.index - 1]\n",
    "s: str = \"hello world\"\n",
    "info(\"\".join(iter_melange(s)))"
   ]
  },
  {
   "cell_type": "markdown",
   "metadata": {},
   "source": [
    "---\n",
    "# Exercice 6"
   ]
  },
  {
   "cell_type": "code",
   "execution_count": 28,
   "metadata": {},
   "outputs": [
    {
     "name": "stdout",
     "output_type": "stream",
     "text": [
      "\u001b[92m[INFO  09:26:35] [0, 1, 8, 27, 64]\u001b[0m\n",
      "\u001b[94m[DEBUG 09:26:35] [49, 53, 5, 33, 62]\u001b[0m\n",
      "\u001b[92m[INFO  09:26:35] [51, 38, 61, 45, 27]\u001b[0m\n"
     ]
    }
   ],
   "source": [
    "\"\"\"\n",
    "• Créer un générateur qui génère les cubes de nombres jusqu’à un certain nombre N.\n",
    "• Créer un générateur qui donne « n » nombres aléatoires entre un nombre de départ et\n",
    " un nombre d’arrivée (qui sont les paramètres d’entrée).\n",
    "• Écrire un générateur qui donne « n » nombres aléatoires entre un nombre de départ et\n",
    " un nombre d’arrivée qui sont les paramètres de la fonction.\n",
    "\"\"\"\n",
    "def cubes(n: int):\n",
    "\tfor i in range(n):\n",
    "\t\tyield i ** 3\n",
    "info(list(cubes(5)))\n",
    "\n",
    "import random\n",
    "random.seed(0)\n",
    "def random_numbers(n: int, start: int, end: int):\n",
    "\tfor _ in range(n):\n",
    "\t\tyield random.randint(start, end)\n",
    "debug(list(random_numbers(5, 0, 64)))\n",
    "\n",
    "random_numbers_2 = lambda n, start, end: (random.randint(start, end) for _ in range(n))\n",
    "info(list(random_numbers_2(5, 0, 64)))"
   ]
  },
  {
   "cell_type": "code",
   "execution_count": 35,
   "metadata": {},
   "outputs": [
    {
     "name": "stdout",
     "output_type": "stream",
     "text": [
      "\u001b[92m[INFO  09:31:23] rlel loohdw\u001b[0m\n",
      "\u001b[94m[DEBUG 09:31:23] [1, 1, 2, 3, 5, 8, 13, 21, 34, 55]\u001b[0m\n"
     ]
    }
   ],
   "source": [
    "\"\"\"\n",
    "• Écrire un générateur qui prend une chaine de caractères et retourne les éléments de cette chaine mélangée.\n",
    "• Écrire un générateur qui renvoie les éléments de la série de Fibonacci.\n",
    " Ces éléments sont calculés à l'aide de la formule suivante :\n",
    "\tLes deux premiers chiffres de la série sont toujours égaux à 1,\n",
    "\tet chaque nombre consécutif renvoyé est la somme des deux derniers chiffres.\n",
    "\"\"\"\n",
    "import random\n",
    "random.seed(0)\n",
    "\n",
    "def shuffle_string(string: str):\n",
    "\tstring: list = list(string)\n",
    "\trandom.shuffle(string)\n",
    "\tfor c in string:\n",
    "\t\tyield c\n",
    "info(\"\".join(shuffle_string(\"hello world\")))\n",
    "\n",
    "def fibonacci(n: int):\n",
    "\ta, b = 1, 1\n",
    "\tfor _ in range(n):\n",
    "\t\tyield a\n",
    "\t\ta, b = b, a + b\n",
    "debug(list(fibonacci(10)))\n"
   ]
  },
  {
   "cell_type": "code",
   "execution_count": 36,
   "metadata": {},
   "outputs": [
    {
     "name": "stdout",
     "output_type": "stream",
     "text": [
      "2, 3, 5, 7, 11, 13, 17, 19, 23, 29, 31, 37, 41, 43, 47, 53, 59, 61, 67, 71, 73, 79, 83, 89, 97, "
     ]
    }
   ],
   "source": [
    "\"\"\"\n",
    "• Écrire un générateur de nombres premiers nommé generateur_nombre_premier().\n",
    " Le générateur doit prendre une limite pour donner la taille maximale de la boucle que\n",
    " vous utilisez pour générer les nombres premiers. Vous devriez être en mesure d'exécuter le code suivant : ...\n",
    "\"\"\"\n",
    "def generateur_nombre_premier(limit: int):\n",
    "\t# Lazy algorithm to generate prime numbers\n",
    "\tfor i in range(2, limit):\n",
    "\t\tif all(i % j != 0 for j in range(2, i)):\t# Check if i is prime (no divisors)\n",
    "\t\t\tyield i\n",
    "\n",
    "# Code to run:\n",
    "nombre = input('Merci de saisir un nombre:')\n",
    "if nombre.isnumeric():\n",
    "\tnum = int(nombre)\n",
    "\tif num <= 2:\n",
    "\t\tprint('Le nombre doit être plus grand que 2')\n",
    "\telse:\n",
    "\t\tfor premier in generateur_nombre_premier(num):\n",
    "\t\t\tprint(premier, end=', ')\n",
    "else:\n",
    "\tprint('Le nombre doit être positif')"
   ]
  },
  {
   "cell_type": "code",
   "execution_count": 37,
   "metadata": {},
   "outputs": [
    {
     "name": "stdout",
     "output_type": "stream",
     "text": [
      "2\n",
      "3\n",
      "5\n",
      "7\n",
      "11\n"
     ]
    }
   ],
   "source": [
    "\"\"\"\n",
    "• Créer maintenant le générateur generateur_nombre_premier_infini (),\n",
    " ce générateur n'a pas de limite et continuera à générer des nombres premiers jusqu'à ce qu'il ne soit plus utilisé.\n",
    " Vous devriez être en mesure d'utiliser ce générateur de nombres premiers comme suit : ...\n",
    "\"\"\"\n",
    "def generateur_nombre_premier_infini():\n",
    "\ti = 2\n",
    "\twhile True:\n",
    "\t\tif all(i % j != 0 for j in range(2, i)):\n",
    "\t\t\tyield i\n",
    "\t\ti += 1\n",
    "\n",
    "# Code to run:\n",
    "prime = generateur_nombre_premier_infini()\n",
    "print(next(prime))\n",
    "print(next(prime))\n",
    "print(next(prime))\n",
    "print(next(prime))\n",
    "print(next(prime))"
   ]
  },
  {
   "cell_type": "code",
   "execution_count": null,
   "metadata": {},
   "outputs": [],
   "source": []
  }
 ],
 "metadata": {
  "kernelspec": {
   "display_name": "Python 3",
   "language": "python",
   "name": "python3"
  },
  "language_info": {
   "codemirror_mode": {
    "name": "ipython",
    "version": 3
   },
   "file_extension": ".py",
   "mimetype": "text/x-python",
   "name": "python",
   "nbconvert_exporter": "python",
   "pygments_lexer": "ipython3",
   "version": "3.12.2"
  }
 },
 "nbformat": 4,
 "nbformat_minor": 2
}
