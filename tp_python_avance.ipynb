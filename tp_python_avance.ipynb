{
 "cells": [
  {
   "cell_type": "code",
   "execution_count": 30,
   "metadata": {},
   "outputs": [],
   "source": [
    "## Imports\n",
    "from src.print import *\n",
    "from functools import reduce\n",
    "import os"
   ]
  },
  {
   "cell_type": "markdown",
   "metadata": {},
   "source": [
    "---\n",
    "# Exercice 1"
   ]
  },
  {
   "cell_type": "code",
   "execution_count": 14,
   "metadata": {},
   "outputs": [
    {
     "name": "stdout",
     "output_type": "stream",
     "text": [
      "\u001b[92m[INFO  08:25:06] test/folder\u001b[0m\n",
      "\u001b[94m[DEBUG 08:25:06] enumerate\u001b[0m\n",
      "1 a, 2 b, 3 c, 4 d, 5 e, 6 f, 7 g, 8 h, 9 i, 10 j, 11 k, 12 l, 13 m, 14 n, 15 o, 16 p, 17 q, 18 r, 19 s, 20 t, 21 u, 22 v, 23 w, 24 x, 25 y, 26 z, \n",
      "\u001b[92m[INFO  08:25:06] lowerCamelCase: helloWorld\u001b[0m\n"
     ]
    }
   ],
   "source": [
    "\"\"\"\n",
    "• Créer une fonction anonyme qui reçoit des noms de dossiers et retourne le chemin complet (un path) .\n",
    "• Utiliser la fonction « enumerate » pour énumérer les lettres de l’alphabet de 1 à 26.\n",
    "• Utiliser la fonction « enumerate » pour écrire un script permettant transformer une phrase en CamelCase https://fr.wikipedia.org/wiki/Camel_case .\n",
    "\"\"\"\n",
    "anonyme = lambda *folders: \"/\".join(folders)\n",
    "info(anonyme(\"test\",\"folder\"))\n",
    "\n",
    "debug(\"enumerate\")\n",
    "for i, letter in enumerate(\"abcdefghijklmnopqrstuvwxyz\", 1):\n",
    "\tprint(i, letter, end=\", \")\n",
    "print()\n",
    "\n",
    "phrase: str = \"hello world\"\n",
    "camel_case: str = \"\"\n",
    "for i, word in enumerate(phrase.split()):\n",
    "\tif i == 0:\n",
    "\t\tcamel_case = word.lower()\n",
    "\telse:\n",
    "\t\tcamel_case += word.capitalize()\n",
    "info(f\"lowerCamelCase: {camel_case}\")"
   ]
  },
  {
   "cell_type": "code",
   "execution_count": 18,
   "metadata": {},
   "outputs": [
    {
     "name": "stdout",
     "output_type": "stream",
     "text": [
      "\u001b[92m[INFO  08:30:03] any: False\u001b[0m\n",
      "\u001b[92m[INFO  08:30:03] all: True\u001b[0m\n",
      "\u001b[94m[DEBUG 08:30:03] sorted by length: ['file156.pdf', 'fil566152.pdf']\u001b[0m\n",
      "\u001b[92m[INFO  08:30:03] sorted by modulo 7: [6, 5, 4, 3, 2, 9, 1, 8, 0, 7]\u001b[0m\n",
      "\u001b[94m[DEBUG 08:30:03] zip alphabet: [('a', 1), ('b', 2), ('c', 3), ('d', 4), ('e', 5), ('f', 6), ('g', 7), ('h', 8), ('i', 9), ('j', 10), ('k', 11), ('l', 12), ('m', 13), ('n', 14), ('o', 15), ('p', 16), ('q', 17), ('r', 18), ('s', 19), ('t', 20), ('u', 21), ('v', 22), ('w', 23), ('x', 24), ('y', 25), ('z', 26)]\u001b[0m\n",
      "\u001b[92m[INFO  08:30:03] zip to dict: {'CNN': 'Convolutional neural network', 'GAN': 'Generative adversarial network', 'RNN': 'Recurrent neural network', 'GRU': 'Gated recurrent unit', 'LSTM': 'Long short-term memory'}\u001b[0m\n"
     ]
    }
   ],
   "source": [
    "\"\"\"\n",
    "• Soit une liste comportant des noms de fichiers. Utiliser les fonctions « any » et « all » pour vérifier si la liste comporte au moins un fichier « jpeg » et si tous les fichiers sont des fichiers « pdf » .\n",
    "• Utiliser la fonction « sorted », pour trier une liste en fonction de la longueur des chaînes de caractères qu’elle comporte.\n",
    "• Utiliser la fonction « sorted », pour trier une liste de nombres en fonction du reste de la division de chaque élément par 7 (du plus grand au plus petit).\n",
    "• Utiliser la fonction « zip » pour afficher la position dans l’alphabet de chaque lettre d’une variable contenant une chaine alphabétique.\n",
    "• Utiliser la fonction « zip » pour créer un dictionnaire à partir de ces deux listes :\n",
    "\tlst1=[\"CNN\", \"GAN\" ,\"RNN\", \"GRU\", \"LSTM\"]\n",
    "\tlst2=[\"Convolutional neural network\", \"Generative adversarial network\", \"Recurrent neural network\", \"Gated recurrent unit\", \"Long short-term memory\"\n",
    "\"\"\"\n",
    "files: list[str] = [\"file156.pdf\", \"fil566152.pdf\"]\n",
    "info(f\"any: {any(\".jpeg\" in file for file in files)}\")\n",
    "info(f\"all: {all(\".pdf\" in file for file in files)}\")\n",
    "\n",
    "debug(f\"sorted by length: {sorted(files, key=len)}\")\n",
    "\n",
    "numbers: list[int] = list(range(10))\n",
    "info(f\"sorted by modulo 7: {sorted(numbers, key=lambda x: x % 7, reverse=True)}\")\n",
    "\n",
    "alphabet: str = \"abcdefghijklmnopqrstuvwxyz\"\n",
    "debug(f\"zip alphabet: {list(zip(alphabet, range(1, 27)))}\")\n",
    "\n",
    "lst1: list[str] = [\"CNN\", \"GAN\" ,\"RNN\", \"GRU\", \"LSTM\"]\n",
    "lst2: list[str] = [\"Convolutional neural network\", \"Generative adversarial network\", \"Recurrent neural network\", \"Gated recurrent unit\", \"Long short-term memory\"]\n",
    "info(f\"zip to dict: {dict(zip(lst1, lst2))}\")"
   ]
  },
  {
   "cell_type": "markdown",
   "metadata": {},
   "source": [
    "---\n",
    "# Exercice 2"
   ]
  },
  {
   "cell_type": "code",
   "execution_count": 21,
   "metadata": {},
   "outputs": [
    {
     "name": "stdout",
     "output_type": "stream",
     "text": [
      "\u001b[92m[INFO  08:34:21] map: [5.905, 81.903, 16.974, 14.213, 26.626, 3.276, 18.404]\u001b[0m\n",
      "\u001b[94m[DEBUG 08:34:21] strings: ['it', 'is', 'a', 'sentence']\u001b[0m\n",
      "\u001b[94m[DEBUG 08:34:21] map: [2, 2, 1, 8]\u001b[0m\n",
      "\u001b[92m[INFO  08:34:21] cities: ['Chalons_en_Champagne', 'Epernay', 'Rethel', 'Bezannes', 'Reims', 'Vitry_le_François', 'Cernay_les_Reims', 'Witry_les_Reims']\u001b[0m\n",
      "\u001b[92m[INFO  08:34:21] map: [2, 2, 2, 2, 1, 1, 3, 2]\u001b[0m\n"
     ]
    }
   ],
   "source": [
    "\"\"\"\n",
    "• Soit la liste [2.43, 9.05, 4.12, 3.77, 5.16, 1.81, 4.29]. Utiliser la fonction « map » pour\n",
    " imprimer le carré de chaque nombre arrondi à trois décimales.\n",
    "• Soit une liste contenant des chaînes de caractères. En utilisant la fonction « map », créer\n",
    " une deuxième liste comportant les longueurs des éléments de la première.\n",
    "• Soit la liste suivante : Villes = ['Chalons_en_Champagne', 'Epernay', 'Rethel',\n",
    " 'Bezannes', 'Reims','Vitry_le_François', 'Cernay_les_Reims', 'Witry_les_Reims']\n",
    " Utiliser la fonction « map » pour créer une liste contenant le nombre d’occurrences\n",
    " de la voyelle « e » ( e ou E) par nom de ville\n",
    "\"\"\"\n",
    "numbers: list[float] = [2.43, 9.05, 4.12, 3.77, 5.16, 1.81, 4.29]\n",
    "rounded_square = lambda x: round(x ** 2, 3)\n",
    "info(f\"map: {list(map(rounded_square, numbers))}\")\n",
    "\n",
    "strings: list[str] = [\"it\",\"is\",\"a\",\"sentence\"]\n",
    "debug(f\"strings: {strings}\")\n",
    "debug(f\"map: {list(map(len, strings))}\")\n",
    "\n",
    "cities: list[str] = ['Chalons_en_Champagne', 'Epernay', 'Rethel', 'Bezannes', 'Reims','Vitry_le_François', 'Cernay_les_Reims', 'Witry_les_Reims']\n",
    "count_e = lambda city: city.lower().count(\"e\")\n",
    "info(f\"cities: {cities}\")\n",
    "info(f\"map: {list(map(count_e, cities))}\")"
   ]
  },
  {
   "cell_type": "code",
   "execution_count": 23,
   "metadata": {},
   "outputs": [
    {
     "name": "stdout",
     "output_type": "stream",
     "text": [
      "\u001b[92m[INFO  08:42:44] lst1: [25, 1.35, 59, 402, 576, 43, 12.89, 1234]\u001b[0m\n",
      "\u001b[92m[INFO  08:42:44] lst2: [1, 21, 100, 111, 10020, 67.56, 34, 145]\u001b[0m\n",
      "\u001b[92m[INFO  08:42:44] map: [25, 21, 100, 402, 10020, 67.56, 34, 1234]\u001b[0m\n",
      "\u001b[94m[DEBUG 08:42:44] l1: [1, 2, 3, 4, 5]\u001b[0m\n",
      "\u001b[94m[DEBUG 08:42:44] l2: [5, 4, 3, 2, 1]\u001b[0m\n",
      "\u001b[94m[DEBUG 08:42:44] map: [5, 4, 3, 4, 5]\u001b[0m\n",
      "\u001b[92m[INFO  08:42:44] map: ['M. Pierre Bourcier', 'Mme Martine Joly', 'M. Adam Bernard', 'M. Gabriel Durand', 'Mlle Alice Martin', 'Mlle Rose Dubois', 'Mme Emma Thomas']\u001b[0m\n"
     ]
    }
   ],
   "source": [
    "\"\"\"\n",
    "• Soient les deux listes suivantes :\n",
    "lst1=[25, 1.35, 59, 402, 576, 43, 12.89, 1234]\n",
    "lst2=[1,21,100,111,10020,67.56,34,145]\n",
    "Utiliser la fonction « map » pour créer une liste lst_max qui comporte la valeur max des deux listes à chaque position.\n",
    "lst_max = [25, 21, 100, 402, 10020, 67.56, 34, 1234]\n",
    "\n",
    "• Utiliser la fonction « map » pour créer une liste comportant la valeur max à une position donnée de deux listes l1, et l2.\n",
    "\n",
    "• Soient les trois listes suivantes :\n",
    "Civilite = [\"M.\", \"Mme\", \"M.\", \"M.\", \"Mlle\", \"Mlle\", \"Mme\"]\n",
    "Noms_Famille = [\"Bourcier\", \"Joly\", \"Bernard\", \"Durand\", \"Martin\", \"Dubois\", \"Thomas\"]\n",
    "Prenoms = [\"Pierre\", \"Martine\", \"Adam\", \"Gabriel\", \"Alice\", \"Rose\", \"Emma\"]\n",
    "Utiliser la fonction « map » pour créer la liste Noms.\n",
    "Noms = ['M. Pierre Bourcier', 'Mme Martine Joly', 'M. Adam Bernard', 'M. Gabriel Durand', 'Mlle Alice Martin', 'Mlle Rose Dubois', 'Mme Emma Thomas']\n",
    "\"\"\"\n",
    "lst1: list[float] = [25, 1.35, 59, 402, 576, 43, 12.89, 1234]\n",
    "lst2: list[float] = [1,21,100,111,10020,67.56,34,145]\n",
    "info(f\"lst1: {lst1}\")\n",
    "info(f\"lst2: {lst2}\")\n",
    "info(f\"map: {list(map(max, lst1, lst2))}\")\n",
    "\n",
    "l1: list[int] = [1, 2, 3, 4, 5]\n",
    "l2: list[int] = [5, 4, 3, 2, 1]\n",
    "debug(f\"l1: {l1}\")\n",
    "debug(f\"l2: {l2}\")\n",
    "debug(f\"map: {list(map(max, l1, l2))}\")\n",
    "\n",
    "Civilite: list[str] = [\"M.\", \"Mme\", \"M.\", \"M.\", \"Mlle\", \"Mlle\", \"Mme\"]\n",
    "Noms_Famille: list[str] = [\"Bourcier\", \"Joly\", \"Bernard\", \"Durand\", \"Martin\", \"Dubois\", \"Thomas\"]\n",
    "Prenoms: list[str] = [\"Pierre\", \"Martine\", \"Adam\", \"Gabriel\", \"Alice\", \"Rose\", \"Emma\"]\n",
    "f_nom = lambda civilite, nom, prenom: f\"{civilite} {prenom} {nom}\"\n",
    "info(f\"map: {list(map(f_nom, Civilite, Noms_Famille, Prenoms))}\")"
   ]
  },
  {
   "cell_type": "markdown",
   "metadata": {},
   "source": [
    "---\n",
    "# Exercice 3"
   ]
  },
  {
   "cell_type": "code",
   "execution_count": 29,
   "metadata": {},
   "outputs": [
    {
     "name": "stdout",
     "output_type": "stream",
     "text": [
      "\u001b[92m[INFO  08:50:34] numbers: [-5, -4, -3, -2, -1, 0, 1, 2, 3, 4]\u001b[0m\n",
      "\u001b[92m[INFO  08:50:34] filter: [-5, -4, -3, -2, -1]\u001b[0m\n",
      "\u001b[94m[DEBUG 08:50:34] string: ef6e52516e561ef651f\u001b[0m\n",
      "\u001b[94m[DEBUG 08:50:34] filter: ['6', '5', '2', '5', '1', '6', '5', '6', '1', '6', '5', '1']\u001b[0m\n",
      "\u001b[92m[INFO  08:50:34] pays: ['Allemagne', 'Angola', 'Bolivie', 'Canada', 'Chine', 'Cuba', 'France', 'Inde', 'Mexique', 'Turquie', 'Ukraine']\u001b[0m\n",
      "\u001b[92m[INFO  08:50:34] filter: ['Angola', 'Canada', 'Chine', 'Cuba', 'France', 'Inde']\u001b[0m\n",
      "\u001b[94m[DEBUG 08:50:34] string: voyelles de chaine de caractères\u001b[0m\n",
      "\u001b[94m[DEBUG 08:50:34] filter: ['o', 'y', 'e', 'e', 'e', 'a', 'i', 'e', 'e', 'a', 'a', 'e']\u001b[0m\n",
      "\u001b[92m[INFO  08:50:34] l1: [0, 1, 2, 3, 4, 5, 6, 7, 8, 9]\u001b[0m\n",
      "\u001b[92m[INFO  08:50:34] l2: [5, 6, 7, 8, 9, 10, 11, 12, 13, 14]\u001b[0m\n",
      "\u001b[92m[INFO  08:50:34] filter: [5, 6, 7, 8, 9]\u001b[0m\n"
     ]
    }
   ],
   "source": [
    "\"\"\"\n",
    "• Utiliser la fonction « filter » pour récupérer les nombres négatifs dans une liste.\n",
    "• Utiliser la fonction « filter » pour récupérer tous les chiffres présents dans une chaîne de caractères.\n",
    "• Utiliser la fonction « filtre » pour garder uniquement les noms de pays qui ont au plus six lettres.\n",
    "pays = [\"Allemagne\", \"Angola\", \"Bolivie\", \"Canada\", \"Chine\", \"Cuba\", \"France\", \"Inde\", \"Mexique\",\"Turquie\", \"Ukraine\"]\n",
    "• Utiliser la fonction « filter » pour récupérer toutes les voyelles d'une chaîne de caractères.\n",
    "• Utiliser la fonction « filter » pour trouver les valeurs communes à deux listes de nombres.\n",
    "\"\"\"\n",
    "numbers: list[int] = list(range(-5, 5))\n",
    "is_negative = lambda x: x < 0\n",
    "info(f\"numbers: {numbers}\")\n",
    "info(f\"filter: {list(filter(is_negative, numbers))}\")\n",
    "\n",
    "string: str = \"ef6e52516e561ef651f\"\n",
    "is_digit = lambda x: x.isdigit()\n",
    "debug(f\"string: {string}\")\n",
    "debug(f\"filter: {list(filter(is_digit, string))}\")\n",
    "\n",
    "pays: list[str] = [\"Allemagne\", \"Angola\", \"Bolivie\", \"Canada\", \"Chine\", \"Cuba\", \"France\", \"Inde\", \"Mexique\",\"Turquie\", \"Ukraine\"]\n",
    "is_short = lambda x: len(x) <= 6\n",
    "info(f\"pays: {pays}\")\n",
    "info(f\"filter: {list(filter(is_short, pays))}\")\n",
    "\n",
    "string: str = \"voyelles de chaine de caractères\"\n",
    "is_vowel = lambda x: x.lower() in \"aeiouy\"\n",
    "debug(f\"string: {string}\")\n",
    "debug(f\"filter: {list(filter(is_vowel, string))}\")\n",
    "\n",
    "l1: list[int] = list(range(10))\n",
    "l2: list[int] = list(range(5, 15))\n",
    "is_common = lambda x: x in l1 and x in l2\n",
    "info(f\"l1: {l1}\")\n",
    "info(f\"l2: {l2}\")\n",
    "info(f\"filter: {list(filter(is_common, l1))}\")"
   ]
  },
  {
   "cell_type": "markdown",
   "metadata": {},
   "source": [
    "---\n",
    "# Exercice 4"
   ]
  },
  {
   "cell_type": "code",
   "execution_count": 49,
   "metadata": {},
   "outputs": [
    {
     "name": "stdout",
     "output_type": "stream",
     "text": [
      "\u001b[92m[INFO  09:09:31] numbers: [1, 65, 2358, 516, 6]\u001b[0m\n",
      "\u001b[92m[INFO  09:09:31] max between: 2358\u001b[0m\n",
      "\u001b[94m[DEBUG 09:09:33] 666 factorial equals: 1010632056840781493390822708129876451757582398324145411340420807357413802103697022989202806801491012040989802203557527039339704057130729302834542423840165856428740661530297972410682828699397176884342513509493787480774903493389255262878341761883261899426484944657161693131380311117619573051526423320389641805410816067607893067483259816815364609828668662748110385603657973284604842078094141556427708745345100598829488472505949071967727270911965060885209294340665506480226426083357901503097781140832497013738079112777615719116203317542199999489227144752667085796752482688850461263732284539176142365823973696764537603278769322286708855475069835681643710846140569769330065775414413083501043659572299454446517242824002140555140464296291001901438414675730552964914569269734038500764140551143642836128613304734147348086095123859660926788460671181469216252213374650499557831741950594827147225699896414088694251261045196672567495532228826719381606116974003112642111561332573503212960729711781993903877416394381718464765527575014252129040283236963922624344456975024058167368431809068544577258472983979437818072648213608650098749369761056961203791265363665664696802245199962040041544438210327210476982203348458596093079296569561267409473914124132102055811493736199668788534872321705360511305248710796441479213354542583576076596250213454667968837996023273163069094700429467106663925419581193136339860545658673623955231932399404809404108767232000000000000000000000000000000000000000000000000000000000000000000000000000000000000000000000000000000000000000000000000000000000000000000000000000000000000000000000\u001b[0m\n",
      "\u001b[92m[INFO  09:09:33] string to join: ['this', 'is', 'a', 'sentence']\u001b[0m\n",
      "\u001b[92m[INFO  09:09:33] join: this is a sentence\u001b[0m\n",
      "\u001b[94m[DEBUG 09:09:33] v1: [1, 2, 3]\u001b[0m\n",
      "\u001b[94m[DEBUG 09:09:33] v2: [4, 5, 6]\u001b[0m\n",
      "\u001b[94m[DEBUG 09:09:33] dot product: 32\u001b[0m\n"
     ]
    }
   ],
   "source": [
    "\"\"\"\n",
    "• Utiliser la fonction « reduce » pour retourner la plus grande valeur dans une liste.\n",
    "• Utiliser la fonction « reduce » pour calculer la factorielle d’un entier N saisi par l’utilisateur.\n",
    "• Utiliser la fonction « reduce » pour reproduire le comportement de la fonction « join »\n",
    "• Soient deux vecteurs mathématiques représentés par deux listes de nombres.\n",
    " Utiliser la fonction « reduce » pour calculer leur produit scalaire.\n",
    "\"\"\"\n",
    "numbers: list[int] = [1,65,2358,516,6]\n",
    "max_between = lambda x, y: x if x > y else y\n",
    "info(f\"numbers: {numbers}\")\n",
    "info(f\"max between: {reduce(max_between, numbers)}\")\n",
    "\n",
    "factorial = lambda x, y: x * y\n",
    "n = int(input(\"factorial of: \"))\n",
    "debug(f\"{n} factorial equals: {reduce(factorial, range(1, n + 1))}\")\n",
    "\n",
    "string_to_join: list[str] = [\"this\", \"is\", \"a\", \"sentence\"]\n",
    "join = lambda x, y: x + \" \" + y\n",
    "info(f\"string to join: {string_to_join}\")\n",
    "info(f\"join: {reduce(join, string_to_join)}\")\n",
    "\n",
    "v1: list[int] = [1, 2, 3]\n",
    "v2: list[int] = [4, 5, 6]\n",
    "# Dot product is the sum of (ai*bi) for each i\n",
    "dot_product_1 = lambda x, y: x * y\n",
    "dot_product_2 = lambda x, y: x + y\n",
    "mult = map(dot_product_1, v1, v2)\n",
    "debug(f\"v1: {v1}\")\n",
    "debug(f\"v2: {v2}\")\n",
    "debug(f\"dot product: {reduce(dot_product_2, mult)}\")"
   ]
  },
  {
   "cell_type": "code",
   "execution_count": null,
   "metadata": {},
   "outputs": [],
   "source": []
  }
 ],
 "metadata": {
  "kernelspec": {
   "display_name": "Python 3",
   "language": "python",
   "name": "python3"
  },
  "language_info": {
   "codemirror_mode": {
    "name": "ipython",
    "version": 3
   },
   "file_extension": ".py",
   "mimetype": "text/x-python",
   "name": "python",
   "nbconvert_exporter": "python",
   "pygments_lexer": "ipython3",
   "version": "3.12.2"
  }
 },
 "nbformat": 4,
 "nbformat_minor": 2
}
